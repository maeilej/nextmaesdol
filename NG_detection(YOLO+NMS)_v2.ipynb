{
 "cells": [
  {
   "cell_type": "code",
   "execution_count": 16,
   "id": "1c17f976",
   "metadata": {},
   "outputs": [
    {
     "data": {
      "text/plain": [
       "'/home/ec2-user/SageMaker/yujin'"
      ]
     },
     "execution_count": 16,
     "metadata": {},
     "output_type": "execute_result"
    }
   ],
   "source": [
    "pwd"
   ]
  },
  {
   "cell_type": "code",
   "execution_count": 1,
   "id": "09914b84",
   "metadata": {},
   "outputs": [
    {
     "name": "stdout",
     "output_type": "stream",
     "text": [
      "Ultralytics 8.3.39 🚀 Python-3.10.14 torch-2.2.2 CUDA:0 (Tesla T4, 14918MiB)\n",
      "\u001b[34m\u001b[1mengine/trainer: \u001b[0mtask=detect, mode=train, model=yolov8n.pt, data=/home/ec2-user/SageMaker/data/yolov8detections/data.yaml, epochs=50, time=None, patience=100, batch=16, imgsz=640, save=True, save_period=-1, cache=False, device=None, workers=8, project=None, name=train, exist_ok=False, pretrained=True, optimizer=auto, verbose=True, seed=0, deterministic=True, single_cls=False, rect=False, cos_lr=False, close_mosaic=10, resume=False, amp=True, fraction=1.0, profile=False, freeze=None, multi_scale=False, overlap_mask=True, mask_ratio=4, dropout=0.0, val=True, split=val, save_json=False, save_hybrid=False, conf=None, iou=0.7, max_det=300, half=False, dnn=False, plots=True, source=None, vid_stride=1, stream_buffer=False, visualize=False, augment=False, agnostic_nms=False, classes=None, retina_masks=False, embed=None, show=False, save_frames=False, save_txt=False, save_conf=False, save_crop=False, show_labels=True, show_conf=True, show_boxes=True, line_width=None, format=torchscript, keras=False, optimize=False, int8=False, dynamic=False, simplify=True, opset=None, workspace=None, nms=False, lr0=0.01, lrf=0.01, momentum=0.937, weight_decay=0.0005, warmup_epochs=3.0, warmup_momentum=0.8, warmup_bias_lr=0.1, box=7.5, cls=0.5, dfl=1.5, pose=12.0, kobj=1.0, nbs=64, hsv_h=0.015, hsv_s=0.7, hsv_v=0.4, degrees=0.0, translate=0.1, scale=0.5, shear=0.0, perspective=0.0, flipud=0.0, fliplr=0.5, bgr=0.0, mosaic=1.0, mixup=0.0, copy_paste=0.0, copy_paste_mode=flip, auto_augment=randaugment, erasing=0.4, crop_fraction=1.0, cfg=None, tracker=botsort.yaml, save_dir=runs/detect/train\n",
      "Overriding model.yaml nc=80 with nc=4\n",
      "\n",
      "                   from  n    params  module                                       arguments                     \n",
      "  0                  -1  1       464  ultralytics.nn.modules.conv.Conv             [3, 16, 3, 2]                 \n",
      "  1                  -1  1      4672  ultralytics.nn.modules.conv.Conv             [16, 32, 3, 2]                \n",
      "  2                  -1  1      7360  ultralytics.nn.modules.block.C2f             [32, 32, 1, True]             \n",
      "  3                  -1  1     18560  ultralytics.nn.modules.conv.Conv             [32, 64, 3, 2]                \n",
      "  4                  -1  2     49664  ultralytics.nn.modules.block.C2f             [64, 64, 2, True]             \n",
      "  5                  -1  1     73984  ultralytics.nn.modules.conv.Conv             [64, 128, 3, 2]               \n",
      "  6                  -1  2    197632  ultralytics.nn.modules.block.C2f             [128, 128, 2, True]           \n",
      "  7                  -1  1    295424  ultralytics.nn.modules.conv.Conv             [128, 256, 3, 2]              \n",
      "  8                  -1  1    460288  ultralytics.nn.modules.block.C2f             [256, 256, 1, True]           \n",
      "  9                  -1  1    164608  ultralytics.nn.modules.block.SPPF            [256, 256, 5]                 \n",
      " 10                  -1  1         0  torch.nn.modules.upsampling.Upsample         [None, 2, 'nearest']          \n",
      " 11             [-1, 6]  1         0  ultralytics.nn.modules.conv.Concat           [1]                           \n",
      " 12                  -1  1    148224  ultralytics.nn.modules.block.C2f             [384, 128, 1]                 \n",
      " 13                  -1  1         0  torch.nn.modules.upsampling.Upsample         [None, 2, 'nearest']          \n",
      " 14             [-1, 4]  1         0  ultralytics.nn.modules.conv.Concat           [1]                           \n",
      " 15                  -1  1     37248  ultralytics.nn.modules.block.C2f             [192, 64, 1]                  \n",
      " 16                  -1  1     36992  ultralytics.nn.modules.conv.Conv             [64, 64, 3, 2]                \n",
      " 17            [-1, 12]  1         0  ultralytics.nn.modules.conv.Concat           [1]                           \n",
      " 18                  -1  1    123648  ultralytics.nn.modules.block.C2f             [192, 128, 1]                 \n",
      " 19                  -1  1    147712  ultralytics.nn.modules.conv.Conv             [128, 128, 3, 2]              \n",
      " 20             [-1, 9]  1         0  ultralytics.nn.modules.conv.Concat           [1]                           \n",
      " 21                  -1  1    493056  ultralytics.nn.modules.block.C2f             [384, 256, 1]                 \n",
      " 22        [15, 18, 21]  1    752092  ultralytics.nn.modules.head.Detect           [4, [64, 128, 256]]           \n",
      "Model summary: 225 layers, 3,011,628 parameters, 3,011,612 gradients, 8.2 GFLOPs\n",
      "\n",
      "Transferred 319/355 items from pretrained weights\n",
      "Freezing layer 'model.22.dfl.conv.weight'\n",
      "\u001b[34m\u001b[1mAMP: \u001b[0mrunning Automatic Mixed Precision (AMP) checks...\n",
      "\u001b[34m\u001b[1mAMP: \u001b[0mchecks passed ✅\n"
     ]
    },
    {
     "name": "stderr",
     "output_type": "stream",
     "text": [
      "\u001b[34m\u001b[1mtrain: \u001b[0mScanning /home/ec2-user/SageMaker/data/yolov8detections/train/labels.cache... 807 images, 1 backgrounds, 0 corrupt: 100%|██████████| 807/807 [00:00<?, ?it/s]\n",
      "\u001b[34m\u001b[1mval: \u001b[0mScanning /home/ec2-user/SageMaker/data/yolov8detections/valid/labels.cache... 232 images, 0 backgrounds, 0 corrupt: 100%|██████████| 232/232 [00:00<?, ?it/s]\n"
     ]
    },
    {
     "name": "stdout",
     "output_type": "stream",
     "text": [
      "Plotting labels to runs/detect/train/labels.jpg... \n",
      "\u001b[34m\u001b[1moptimizer:\u001b[0m 'optimizer=auto' found, ignoring 'lr0=0.01' and 'momentum=0.937' and determining best 'optimizer', 'lr0' and 'momentum' automatically... \n",
      "\u001b[34m\u001b[1moptimizer:\u001b[0m AdamW(lr=0.00125, momentum=0.9) with parameter groups 57 weight(decay=0.0), 64 weight(decay=0.0005), 63 bias(decay=0.0)\n"
     ]
    },
    {
     "name": "stderr",
     "output_type": "stream",
     "text": [
      "2024/11/29 06:53:03 WARNING mlflow.utils.autologging_utils: MLflow statsmodels autologging is known to be compatible with 0.11.1 <= statsmodels <= 0.14.3, but the installed version is 0.14.4. If you encounter errors during autologging, try upgrading / downgrading statsmodels to a compatible version, or try upgrading MLflow.\n",
      "2024/11/29 06:53:03 INFO mlflow.tracking.fluent: Autologging successfully enabled for statsmodels.\n",
      "2024/11/29 06:53:03 WARNING mlflow.spark: With Pyspark >= 3.2, PYSPARK_PIN_THREAD environment variable must be set to false for Spark datasource autologging to work.\n",
      "2024/11/29 06:53:03 INFO mlflow.tracking.fluent: Autologging successfully enabled for pyspark.\n"
     ]
    },
    {
     "name": "stdout",
     "output_type": "stream",
     "text": [
      "\u001b[34m\u001b[1mMLflow: \u001b[0mlogging run_id(c6e63b7a0b6b4c5586079cda58599d83) to runs/mlflow\n",
      "\u001b[34m\u001b[1mMLflow: \u001b[0mview at http://127.0.0.1:5000 with 'mlflow server --backend-store-uri runs/mlflow'\n",
      "\u001b[34m\u001b[1mMLflow: \u001b[0mdisable with 'yolo settings mlflow=False'\n",
      "Image sizes 640 train, 640 val\n",
      "Using 4 dataloader workers\n",
      "Logging results to \u001b[1mruns/detect/train\u001b[0m\n",
      "Starting training for 50 epochs...\n",
      "\n",
      "      Epoch    GPU_mem   box_loss   cls_loss   dfl_loss  Instances       Size\n"
     ]
    },
    {
     "name": "stderr",
     "output_type": "stream",
     "text": [
      "       1/50      2.24G      1.896      3.774      1.877         18        640: 100%|██████████| 51/51 [00:20<00:00,  2.50it/s]\n",
      "                 Class     Images  Instances      Box(P          R      mAP50  mAP50-95): 100%|██████████| 8/8 [00:04<00:00,  1.60it/s]"
     ]
    },
    {
     "name": "stdout",
     "output_type": "stream",
     "text": [
      "                   all        232        289    0.00753      0.648      0.137     0.0503\n"
     ]
    },
    {
     "name": "stderr",
     "output_type": "stream",
     "text": [
      "\n"
     ]
    },
    {
     "name": "stdout",
     "output_type": "stream",
     "text": [
      "\n",
      "      Epoch    GPU_mem   box_loss   cls_loss   dfl_loss  Instances       Size\n"
     ]
    },
    {
     "name": "stderr",
     "output_type": "stream",
     "text": [
      "       2/50      2.25G      1.852      2.894      1.798         15        640: 100%|██████████| 51/51 [00:16<00:00,  3.05it/s]\n",
      "                 Class     Images  Instances      Box(P          R      mAP50  mAP50-95): 100%|██████████| 8/8 [00:05<00:00,  1.53it/s]\n"
     ]
    },
    {
     "name": "stdout",
     "output_type": "stream",
     "text": [
      "                   all        232        289      0.301      0.193      0.114     0.0308\n",
      "\n",
      "      Epoch    GPU_mem   box_loss   cls_loss   dfl_loss  Instances       Size\n"
     ]
    },
    {
     "name": "stderr",
     "output_type": "stream",
     "text": [
      "       3/50      2.25G      1.887      2.709      1.806         15        640: 100%|██████████| 51/51 [00:15<00:00,  3.20it/s]\n",
      "                 Class     Images  Instances      Box(P          R      mAP50  mAP50-95): 100%|██████████| 8/8 [00:05<00:00,  1.54it/s]"
     ]
    },
    {
     "name": "stdout",
     "output_type": "stream",
     "text": [
      "                   all        232        289      0.364      0.247      0.305      0.116\n"
     ]
    },
    {
     "name": "stderr",
     "output_type": "stream",
     "text": [
      "\n"
     ]
    },
    {
     "name": "stdout",
     "output_type": "stream",
     "text": [
      "\n",
      "      Epoch    GPU_mem   box_loss   cls_loss   dfl_loss  Instances       Size\n"
     ]
    },
    {
     "name": "stderr",
     "output_type": "stream",
     "text": [
      "       4/50      2.24G      1.869      2.413       1.83         15        640: 100%|██████████| 51/51 [00:16<00:00,  3.11it/s]\n",
      "                 Class     Images  Instances      Box(P          R      mAP50  mAP50-95): 100%|██████████| 8/8 [00:03<00:00,  2.02it/s]"
     ]
    },
    {
     "name": "stdout",
     "output_type": "stream",
     "text": [
      "                   all        232        289      0.144      0.575      0.245      0.104\n"
     ]
    },
    {
     "name": "stderr",
     "output_type": "stream",
     "text": [
      "\n"
     ]
    },
    {
     "name": "stdout",
     "output_type": "stream",
     "text": [
      "\n",
      "      Epoch    GPU_mem   box_loss   cls_loss   dfl_loss  Instances       Size\n"
     ]
    },
    {
     "name": "stderr",
     "output_type": "stream",
     "text": [
      "       5/50      2.25G      1.863      2.263      1.794         11        640: 100%|██████████| 51/51 [00:16<00:00,  3.10it/s]\n",
      "                 Class     Images  Instances      Box(P          R      mAP50  mAP50-95): 100%|██████████| 8/8 [00:04<00:00,  1.78it/s]"
     ]
    },
    {
     "name": "stdout",
     "output_type": "stream",
     "text": [
      "                   all        232        289      0.248      0.411      0.267      0.112\n"
     ]
    },
    {
     "name": "stderr",
     "output_type": "stream",
     "text": [
      "\n"
     ]
    },
    {
     "name": "stdout",
     "output_type": "stream",
     "text": [
      "\n",
      "      Epoch    GPU_mem   box_loss   cls_loss   dfl_loss  Instances       Size\n"
     ]
    },
    {
     "name": "stderr",
     "output_type": "stream",
     "text": [
      "       6/50      2.27G      1.817        2.1      1.768         14        640: 100%|██████████| 51/51 [00:14<00:00,  3.61it/s]\n",
      "                 Class     Images  Instances      Box(P          R      mAP50  mAP50-95): 100%|██████████| 8/8 [00:04<00:00,  1.83it/s]\n"
     ]
    },
    {
     "name": "stdout",
     "output_type": "stream",
     "text": [
      "                   all        232        289      0.196       0.65      0.305      0.129\n",
      "\n",
      "      Epoch    GPU_mem   box_loss   cls_loss   dfl_loss  Instances       Size\n"
     ]
    },
    {
     "name": "stderr",
     "output_type": "stream",
     "text": [
      "       7/50      2.25G      1.793       2.07      1.764         15        640: 100%|██████████| 51/51 [00:16<00:00,  3.09it/s]\n",
      "                 Class     Images  Instances      Box(P          R      mAP50  mAP50-95): 100%|██████████| 8/8 [00:04<00:00,  1.63it/s]"
     ]
    },
    {
     "name": "stdout",
     "output_type": "stream",
     "text": [
      "                   all        232        289      0.422      0.404      0.367        0.1\n"
     ]
    },
    {
     "name": "stderr",
     "output_type": "stream",
     "text": [
      "\n"
     ]
    },
    {
     "name": "stdout",
     "output_type": "stream",
     "text": [
      "\n",
      "      Epoch    GPU_mem   box_loss   cls_loss   dfl_loss  Instances       Size\n"
     ]
    },
    {
     "name": "stderr",
     "output_type": "stream",
     "text": [
      "       8/50      2.24G       1.75      1.949       1.72         11        640: 100%|██████████| 51/51 [00:14<00:00,  3.43it/s]\n",
      "                 Class     Images  Instances      Box(P          R      mAP50  mAP50-95): 100%|██████████| 8/8 [00:05<00:00,  1.54it/s]"
     ]
    },
    {
     "name": "stdout",
     "output_type": "stream",
     "text": [
      "                   all        232        289      0.215      0.563      0.316      0.115\n"
     ]
    },
    {
     "name": "stderr",
     "output_type": "stream",
     "text": [
      "\n"
     ]
    },
    {
     "name": "stdout",
     "output_type": "stream",
     "text": [
      "\n",
      "      Epoch    GPU_mem   box_loss   cls_loss   dfl_loss  Instances       Size\n"
     ]
    },
    {
     "name": "stderr",
     "output_type": "stream",
     "text": [
      "       9/50      2.25G      1.739      1.818      1.728         10        640: 100%|██████████| 51/51 [00:15<00:00,  3.26it/s]\n",
      "                 Class     Images  Instances      Box(P          R      mAP50  mAP50-95): 100%|██████████| 8/8 [00:03<00:00,  2.24it/s]"
     ]
    },
    {
     "name": "stdout",
     "output_type": "stream",
     "text": [
      "                   all        232        289      0.294      0.458      0.392      0.154\n"
     ]
    },
    {
     "name": "stderr",
     "output_type": "stream",
     "text": [
      "\n"
     ]
    },
    {
     "name": "stdout",
     "output_type": "stream",
     "text": [
      "\n",
      "      Epoch    GPU_mem   box_loss   cls_loss   dfl_loss  Instances       Size\n"
     ]
    },
    {
     "name": "stderr",
     "output_type": "stream",
     "text": [
      "      10/50      2.26G      1.755      1.806      1.699         14        640: 100%|██████████| 51/51 [00:17<00:00,  2.99it/s]\n",
      "                 Class     Images  Instances      Box(P          R      mAP50  mAP50-95): 100%|██████████| 8/8 [00:05<00:00,  1.41it/s]"
     ]
    },
    {
     "name": "stdout",
     "output_type": "stream",
     "text": [
      "                   all        232        289      0.371      0.644      0.536      0.161\n"
     ]
    },
    {
     "name": "stderr",
     "output_type": "stream",
     "text": [
      "\n"
     ]
    },
    {
     "name": "stdout",
     "output_type": "stream",
     "text": [
      "\n",
      "      Epoch    GPU_mem   box_loss   cls_loss   dfl_loss  Instances       Size\n"
     ]
    },
    {
     "name": "stderr",
     "output_type": "stream",
     "text": [
      "      11/50      2.25G       1.72      1.756      1.694          9        640: 100%|██████████| 51/51 [00:14<00:00,  3.51it/s]\n",
      "                 Class     Images  Instances      Box(P          R      mAP50  mAP50-95): 100%|██████████| 8/8 [00:04<00:00,  1.61it/s]"
     ]
    },
    {
     "name": "stdout",
     "output_type": "stream",
     "text": [
      "                   all        232        289      0.362      0.709       0.53      0.228\n"
     ]
    },
    {
     "name": "stderr",
     "output_type": "stream",
     "text": [
      "\n"
     ]
    },
    {
     "name": "stdout",
     "output_type": "stream",
     "text": [
      "\n",
      "      Epoch    GPU_mem   box_loss   cls_loss   dfl_loss  Instances       Size\n"
     ]
    },
    {
     "name": "stderr",
     "output_type": "stream",
     "text": [
      "      12/50      2.24G      1.746        1.7      1.683         15        640: 100%|██████████| 51/51 [00:16<00:00,  3.04it/s]\n",
      "                 Class     Images  Instances      Box(P          R      mAP50  mAP50-95): 100%|██████████| 8/8 [00:03<00:00,  2.05it/s]"
     ]
    },
    {
     "name": "stdout",
     "output_type": "stream",
     "text": [
      "                   all        232        289      0.403      0.522      0.444      0.163\n"
     ]
    },
    {
     "name": "stderr",
     "output_type": "stream",
     "text": [
      "\n"
     ]
    },
    {
     "name": "stdout",
     "output_type": "stream",
     "text": [
      "\n",
      "      Epoch    GPU_mem   box_loss   cls_loss   dfl_loss  Instances       Size\n"
     ]
    },
    {
     "name": "stderr",
     "output_type": "stream",
     "text": [
      "      13/50      2.25G      1.683      1.629      1.664         13        640: 100%|██████████| 51/51 [00:16<00:00,  3.05it/s]\n",
      "                 Class     Images  Instances      Box(P          R      mAP50  mAP50-95): 100%|██████████| 8/8 [00:04<00:00,  1.67it/s]"
     ]
    },
    {
     "name": "stdout",
     "output_type": "stream",
     "text": [
      "                   all        232        289      0.419       0.67      0.561      0.233\n"
     ]
    },
    {
     "name": "stderr",
     "output_type": "stream",
     "text": [
      "\n"
     ]
    },
    {
     "name": "stdout",
     "output_type": "stream",
     "text": [
      "\n",
      "      Epoch    GPU_mem   box_loss   cls_loss   dfl_loss  Instances       Size\n"
     ]
    },
    {
     "name": "stderr",
     "output_type": "stream",
     "text": [
      "      14/50      2.25G      1.687      1.597       1.65         10        640: 100%|██████████| 51/51 [00:14<00:00,  3.58it/s]\n",
      "                 Class     Images  Instances      Box(P          R      mAP50  mAP50-95): 100%|██████████| 8/8 [00:04<00:00,  1.65it/s]"
     ]
    },
    {
     "name": "stdout",
     "output_type": "stream",
     "text": [
      "                   all        232        289      0.336      0.449      0.414      0.195\n"
     ]
    },
    {
     "name": "stderr",
     "output_type": "stream",
     "text": [
      "\n"
     ]
    },
    {
     "name": "stdout",
     "output_type": "stream",
     "text": [
      "\n",
      "      Epoch    GPU_mem   box_loss   cls_loss   dfl_loss  Instances       Size\n"
     ]
    },
    {
     "name": "stderr",
     "output_type": "stream",
     "text": [
      "      15/50      2.25G      1.678      1.612      1.649          8        640: 100%|██████████| 51/51 [00:16<00:00,  3.02it/s]\n",
      "                 Class     Images  Instances      Box(P          R      mAP50  mAP50-95): 100%|██████████| 8/8 [00:04<00:00,  1.98it/s]"
     ]
    },
    {
     "name": "stdout",
     "output_type": "stream",
     "text": [
      "                   all        232        289      0.519      0.618       0.59      0.219\n"
     ]
    },
    {
     "name": "stderr",
     "output_type": "stream",
     "text": [
      "\n"
     ]
    },
    {
     "name": "stdout",
     "output_type": "stream",
     "text": [
      "\n",
      "      Epoch    GPU_mem   box_loss   cls_loss   dfl_loss  Instances       Size\n"
     ]
    },
    {
     "name": "stderr",
     "output_type": "stream",
     "text": [
      "      16/50      2.24G      1.595       1.53       1.61          7        640: 100%|██████████| 51/51 [00:16<00:00,  3.10it/s]\n",
      "                 Class     Images  Instances      Box(P          R      mAP50  mAP50-95): 100%|██████████| 8/8 [00:05<00:00,  1.60it/s]"
     ]
    },
    {
     "name": "stdout",
     "output_type": "stream",
     "text": [
      "                   all        232        289      0.346      0.644      0.503      0.228\n"
     ]
    },
    {
     "name": "stderr",
     "output_type": "stream",
     "text": [
      "\n"
     ]
    },
    {
     "name": "stdout",
     "output_type": "stream",
     "text": [
      "\n",
      "      Epoch    GPU_mem   box_loss   cls_loss   dfl_loss  Instances       Size\n"
     ]
    },
    {
     "name": "stderr",
     "output_type": "stream",
     "text": [
      "      17/50      2.25G      1.703      1.635      1.642         13        640: 100%|██████████| 51/51 [00:15<00:00,  3.38it/s]\n",
      "                 Class     Images  Instances      Box(P          R      mAP50  mAP50-95): 100%|██████████| 8/8 [00:03<00:00,  2.04it/s]\n"
     ]
    },
    {
     "name": "stdout",
     "output_type": "stream",
     "text": [
      "                   all        232        289      0.421       0.67      0.553      0.228\n",
      "\n",
      "      Epoch    GPU_mem   box_loss   cls_loss   dfl_loss  Instances       Size\n"
     ]
    },
    {
     "name": "stderr",
     "output_type": "stream",
     "text": [
      "      18/50      2.26G      1.638      1.586      1.604         12        640: 100%|██████████| 51/51 [00:16<00:00,  3.04it/s]\n",
      "                 Class     Images  Instances      Box(P          R      mAP50  mAP50-95): 100%|██████████| 8/8 [00:04<00:00,  1.83it/s]"
     ]
    },
    {
     "name": "stdout",
     "output_type": "stream",
     "text": [
      "                   all        232        289      0.471      0.725      0.595      0.229\n"
     ]
    },
    {
     "name": "stderr",
     "output_type": "stream",
     "text": [
      "\n"
     ]
    },
    {
     "name": "stdout",
     "output_type": "stream",
     "text": [
      "\n",
      "      Epoch    GPU_mem   box_loss   cls_loss   dfl_loss  Instances       Size\n"
     ]
    },
    {
     "name": "stderr",
     "output_type": "stream",
     "text": [
      "      19/50      2.25G      1.645       1.51      1.631          7        640: 100%|██████████| 51/51 [00:15<00:00,  3.23it/s]\n",
      "                 Class     Images  Instances      Box(P          R      mAP50  mAP50-95): 100%|██████████| 8/8 [00:04<00:00,  1.60it/s]"
     ]
    },
    {
     "name": "stdout",
     "output_type": "stream",
     "text": [
      "                   all        232        289      0.446      0.684      0.595      0.243\n"
     ]
    },
    {
     "name": "stderr",
     "output_type": "stream",
     "text": [
      "\n"
     ]
    },
    {
     "name": "stdout",
     "output_type": "stream",
     "text": [
      "\n",
      "      Epoch    GPU_mem   box_loss   cls_loss   dfl_loss  Instances       Size\n"
     ]
    },
    {
     "name": "stderr",
     "output_type": "stream",
     "text": [
      "      20/50      2.24G      1.616      1.522      1.625         14        640: 100%|██████████| 51/51 [00:16<00:00,  3.18it/s]\n",
      "                 Class     Images  Instances      Box(P          R      mAP50  mAP50-95): 100%|██████████| 8/8 [00:04<00:00,  1.89it/s]"
     ]
    },
    {
     "name": "stdout",
     "output_type": "stream",
     "text": [
      "                   all        232        289      0.458      0.591      0.543      0.221\n"
     ]
    },
    {
     "name": "stderr",
     "output_type": "stream",
     "text": [
      "\n"
     ]
    },
    {
     "name": "stdout",
     "output_type": "stream",
     "text": [
      "\n",
      "      Epoch    GPU_mem   box_loss   cls_loss   dfl_loss  Instances       Size\n"
     ]
    },
    {
     "name": "stderr",
     "output_type": "stream",
     "text": [
      "      21/50      2.26G      1.561      1.406      1.556          8        640: 100%|██████████| 51/51 [00:16<00:00,  3.12it/s]\n",
      "                 Class     Images  Instances      Box(P          R      mAP50  mAP50-95): 100%|██████████| 8/8 [00:04<00:00,  1.81it/s]"
     ]
    },
    {
     "name": "stdout",
     "output_type": "stream",
     "text": [
      "                   all        232        289        0.5      0.655      0.602      0.272\n"
     ]
    },
    {
     "name": "stderr",
     "output_type": "stream",
     "text": [
      "\n"
     ]
    },
    {
     "name": "stdout",
     "output_type": "stream",
     "text": [
      "\n",
      "      Epoch    GPU_mem   box_loss   cls_loss   dfl_loss  Instances       Size\n"
     ]
    },
    {
     "name": "stderr",
     "output_type": "stream",
     "text": [
      "      22/50      2.25G      1.625      1.483      1.582         17        640: 100%|██████████| 51/51 [00:15<00:00,  3.27it/s]\n",
      "                 Class     Images  Instances      Box(P          R      mAP50  mAP50-95): 100%|██████████| 8/8 [00:04<00:00,  1.82it/s]"
     ]
    },
    {
     "name": "stdout",
     "output_type": "stream",
     "text": [
      "                   all        232        289      0.564      0.658      0.613      0.273\n"
     ]
    },
    {
     "name": "stderr",
     "output_type": "stream",
     "text": [
      "\n"
     ]
    },
    {
     "name": "stdout",
     "output_type": "stream",
     "text": [
      "\n",
      "      Epoch    GPU_mem   box_loss   cls_loss   dfl_loss  Instances       Size\n"
     ]
    },
    {
     "name": "stderr",
     "output_type": "stream",
     "text": [
      "      23/50      2.26G      1.566      1.436      1.595         13        640: 100%|██████████| 51/51 [00:15<00:00,  3.32it/s]\n",
      "                 Class     Images  Instances      Box(P          R      mAP50  mAP50-95): 100%|██████████| 8/8 [00:05<00:00,  1.59it/s]"
     ]
    },
    {
     "name": "stdout",
     "output_type": "stream",
     "text": [
      "                   all        232        289       0.48      0.674      0.568      0.218\n"
     ]
    },
    {
     "name": "stderr",
     "output_type": "stream",
     "text": [
      "\n"
     ]
    },
    {
     "name": "stdout",
     "output_type": "stream",
     "text": [
      "\n",
      "      Epoch    GPU_mem   box_loss   cls_loss   dfl_loss  Instances       Size\n"
     ]
    },
    {
     "name": "stderr",
     "output_type": "stream",
     "text": [
      "      24/50      2.25G      1.555      1.427      1.578         15        640: 100%|██████████| 51/51 [00:15<00:00,  3.20it/s]\n",
      "                 Class     Images  Instances      Box(P          R      mAP50  mAP50-95): 100%|██████████| 8/8 [00:04<00:00,  1.77it/s]"
     ]
    },
    {
     "name": "stdout",
     "output_type": "stream",
     "text": [
      "                   all        232        289      0.421      0.615      0.532      0.227\n"
     ]
    },
    {
     "name": "stderr",
     "output_type": "stream",
     "text": [
      "\n"
     ]
    },
    {
     "name": "stdout",
     "output_type": "stream",
     "text": [
      "\n",
      "      Epoch    GPU_mem   box_loss   cls_loss   dfl_loss  Instances       Size\n"
     ]
    },
    {
     "name": "stderr",
     "output_type": "stream",
     "text": [
      "      25/50      2.25G      1.519      1.416      1.539         21        640: 100%|██████████| 51/51 [00:16<00:00,  3.17it/s]\n",
      "                 Class     Images  Instances      Box(P          R      mAP50  mAP50-95): 100%|██████████| 8/8 [00:04<00:00,  1.83it/s]"
     ]
    },
    {
     "name": "stdout",
     "output_type": "stream",
     "text": [
      "                   all        232        289      0.552      0.646      0.583      0.252\n"
     ]
    },
    {
     "name": "stderr",
     "output_type": "stream",
     "text": [
      "\n"
     ]
    },
    {
     "name": "stdout",
     "output_type": "stream",
     "text": [
      "\n",
      "      Epoch    GPU_mem   box_loss   cls_loss   dfl_loss  Instances       Size\n"
     ]
    },
    {
     "name": "stderr",
     "output_type": "stream",
     "text": [
      "      26/50      2.27G      1.574      1.459      1.592         15        640: 100%|██████████| 51/51 [00:15<00:00,  3.19it/s]\n",
      "                 Class     Images  Instances      Box(P          R      mAP50  mAP50-95): 100%|██████████| 8/8 [00:04<00:00,  1.92it/s]\n"
     ]
    },
    {
     "name": "stdout",
     "output_type": "stream",
     "text": [
      "                   all        232        289      0.463      0.667       0.59      0.245\n",
      "\n",
      "      Epoch    GPU_mem   box_loss   cls_loss   dfl_loss  Instances       Size\n"
     ]
    },
    {
     "name": "stderr",
     "output_type": "stream",
     "text": [
      "      27/50      2.25G      1.517      1.422      1.542         24        640: 100%|██████████| 51/51 [00:16<00:00,  3.17it/s]\n",
      "                 Class     Images  Instances      Box(P          R      mAP50  mAP50-95): 100%|██████████| 8/8 [00:04<00:00,  1.71it/s]"
     ]
    },
    {
     "name": "stdout",
     "output_type": "stream",
     "text": [
      "                   all        232        289       0.49      0.628      0.595      0.271\n"
     ]
    },
    {
     "name": "stderr",
     "output_type": "stream",
     "text": [
      "\n"
     ]
    },
    {
     "name": "stdout",
     "output_type": "stream",
     "text": [
      "\n",
      "      Epoch    GPU_mem   box_loss   cls_loss   dfl_loss  Instances       Size\n"
     ]
    },
    {
     "name": "stderr",
     "output_type": "stream",
     "text": [
      "      28/50      2.24G      1.529      1.396      1.559         13        640: 100%|██████████| 51/51 [00:16<00:00,  3.03it/s]\n",
      "                 Class     Images  Instances      Box(P          R      mAP50  mAP50-95): 100%|██████████| 8/8 [00:05<00:00,  1.56it/s]"
     ]
    },
    {
     "name": "stdout",
     "output_type": "stream",
     "text": [
      "                   all        232        289      0.444      0.703      0.574      0.253\n"
     ]
    },
    {
     "name": "stderr",
     "output_type": "stream",
     "text": [
      "\n"
     ]
    },
    {
     "name": "stdout",
     "output_type": "stream",
     "text": [
      "\n",
      "      Epoch    GPU_mem   box_loss   cls_loss   dfl_loss  Instances       Size\n"
     ]
    },
    {
     "name": "stderr",
     "output_type": "stream",
     "text": [
      "      29/50      2.26G      1.517      1.424      1.533         12        640: 100%|██████████| 51/51 [00:16<00:00,  3.19it/s]\n",
      "                 Class     Images  Instances      Box(P          R      mAP50  mAP50-95): 100%|██████████| 8/8 [00:04<00:00,  1.85it/s]\n"
     ]
    },
    {
     "name": "stdout",
     "output_type": "stream",
     "text": [
      "                   all        232        289      0.612      0.748       0.74      0.312\n",
      "\n",
      "      Epoch    GPU_mem   box_loss   cls_loss   dfl_loss  Instances       Size\n"
     ]
    },
    {
     "name": "stderr",
     "output_type": "stream",
     "text": [
      "      30/50      2.25G      1.521      1.367      1.519         17        640: 100%|██████████| 51/51 [00:15<00:00,  3.30it/s]\n",
      "                 Class     Images  Instances      Box(P          R      mAP50  mAP50-95): 100%|██████████| 8/8 [00:04<00:00,  1.75it/s]\n"
     ]
    },
    {
     "name": "stdout",
     "output_type": "stream",
     "text": [
      "                   all        232        289      0.574      0.694      0.697      0.297\n",
      "\n",
      "      Epoch    GPU_mem   box_loss   cls_loss   dfl_loss  Instances       Size\n"
     ]
    },
    {
     "name": "stderr",
     "output_type": "stream",
     "text": [
      "      31/50      2.25G      1.508      1.368      1.524         12        640: 100%|██████████| 51/51 [00:15<00:00,  3.21it/s]\n",
      "                 Class     Images  Instances      Box(P          R      mAP50  mAP50-95): 100%|██████████| 8/8 [00:05<00:00,  1.56it/s]"
     ]
    },
    {
     "name": "stdout",
     "output_type": "stream",
     "text": [
      "                   all        232        289      0.515      0.669      0.572      0.251\n"
     ]
    },
    {
     "name": "stderr",
     "output_type": "stream",
     "text": [
      "\n"
     ]
    },
    {
     "name": "stdout",
     "output_type": "stream",
     "text": [
      "\n",
      "      Epoch    GPU_mem   box_loss   cls_loss   dfl_loss  Instances       Size\n"
     ]
    },
    {
     "name": "stderr",
     "output_type": "stream",
     "text": [
      "      32/50      2.24G      1.538      1.358       1.55         15        640: 100%|██████████| 51/51 [00:15<00:00,  3.27it/s]\n",
      "                 Class     Images  Instances      Box(P          R      mAP50  mAP50-95): 100%|██████████| 8/8 [00:04<00:00,  1.76it/s]\n"
     ]
    },
    {
     "name": "stdout",
     "output_type": "stream",
     "text": [
      "                   all        232        289      0.578      0.623      0.665      0.287\n",
      "\n",
      "      Epoch    GPU_mem   box_loss   cls_loss   dfl_loss  Instances       Size\n"
     ]
    },
    {
     "name": "stderr",
     "output_type": "stream",
     "text": [
      "      33/50      2.26G      1.509      1.336      1.508         12        640: 100%|██████████| 51/51 [00:16<00:00,  3.07it/s]\n",
      "                 Class     Images  Instances      Box(P          R      mAP50  mAP50-95): 100%|██████████| 8/8 [00:04<00:00,  1.97it/s]"
     ]
    },
    {
     "name": "stdout",
     "output_type": "stream",
     "text": [
      "                   all        232        289      0.503       0.65      0.652      0.297\n"
     ]
    },
    {
     "name": "stderr",
     "output_type": "stream",
     "text": [
      "\n"
     ]
    },
    {
     "name": "stdout",
     "output_type": "stream",
     "text": [
      "\n",
      "      Epoch    GPU_mem   box_loss   cls_loss   dfl_loss  Instances       Size\n"
     ]
    },
    {
     "name": "stderr",
     "output_type": "stream",
     "text": [
      "      34/50      2.25G      1.454       1.33      1.505          9        640: 100%|██████████| 51/51 [00:15<00:00,  3.21it/s]\n",
      "                 Class     Images  Instances      Box(P          R      mAP50  mAP50-95): 100%|██████████| 8/8 [00:04<00:00,  1.82it/s]"
     ]
    },
    {
     "name": "stdout",
     "output_type": "stream",
     "text": [
      "                   all        232        289      0.513      0.708      0.649      0.281\n"
     ]
    },
    {
     "name": "stderr",
     "output_type": "stream",
     "text": [
      "\n"
     ]
    },
    {
     "name": "stdout",
     "output_type": "stream",
     "text": [
      "\n",
      "      Epoch    GPU_mem   box_loss   cls_loss   dfl_loss  Instances       Size\n"
     ]
    },
    {
     "name": "stderr",
     "output_type": "stream",
     "text": [
      "      35/50      2.26G      1.454      1.297      1.478         14        640: 100%|██████████| 51/51 [00:15<00:00,  3.32it/s]\n",
      "                 Class     Images  Instances      Box(P          R      mAP50  mAP50-95): 100%|██████████| 8/8 [00:04<00:00,  1.92it/s]"
     ]
    },
    {
     "name": "stdout",
     "output_type": "stream",
     "text": [
      "                   all        232        289      0.655      0.667      0.698      0.292\n"
     ]
    },
    {
     "name": "stderr",
     "output_type": "stream",
     "text": [
      "\n"
     ]
    },
    {
     "name": "stdout",
     "output_type": "stream",
     "text": [
      "\n",
      "      Epoch    GPU_mem   box_loss   cls_loss   dfl_loss  Instances       Size\n"
     ]
    },
    {
     "name": "stderr",
     "output_type": "stream",
     "text": [
      "      36/50      2.24G      1.469      1.286       1.51          9        640: 100%|██████████| 51/51 [00:16<00:00,  3.06it/s]\n",
      "                 Class     Images  Instances      Box(P          R      mAP50  mAP50-95): 100%|██████████| 8/8 [00:04<00:00,  1.76it/s]"
     ]
    },
    {
     "name": "stdout",
     "output_type": "stream",
     "text": [
      "                   all        232        289        0.6      0.683      0.649      0.295\n"
     ]
    },
    {
     "name": "stderr",
     "output_type": "stream",
     "text": [
      "\n"
     ]
    },
    {
     "name": "stdout",
     "output_type": "stream",
     "text": [
      "\n",
      "      Epoch    GPU_mem   box_loss   cls_loss   dfl_loss  Instances       Size\n"
     ]
    },
    {
     "name": "stderr",
     "output_type": "stream",
     "text": [
      "      37/50      2.25G      1.426      1.281      1.497         13        640: 100%|██████████| 51/51 [00:15<00:00,  3.29it/s]\n",
      "                 Class     Images  Instances      Box(P          R      mAP50  mAP50-95): 100%|██████████| 8/8 [00:05<00:00,  1.51it/s]"
     ]
    },
    {
     "name": "stdout",
     "output_type": "stream",
     "text": [
      "                   all        232        289      0.642      0.708       0.66      0.293\n"
     ]
    },
    {
     "name": "stderr",
     "output_type": "stream",
     "text": [
      "\n"
     ]
    },
    {
     "name": "stdout",
     "output_type": "stream",
     "text": [
      "\n",
      "      Epoch    GPU_mem   box_loss   cls_loss   dfl_loss  Instances       Size\n"
     ]
    },
    {
     "name": "stderr",
     "output_type": "stream",
     "text": [
      "      38/50      2.26G      1.471      1.285      1.502         12        640: 100%|██████████| 51/51 [00:16<00:00,  3.09it/s]\n",
      "                 Class     Images  Instances      Box(P          R      mAP50  mAP50-95): 100%|██████████| 8/8 [00:04<00:00,  1.82it/s]"
     ]
    },
    {
     "name": "stdout",
     "output_type": "stream",
     "text": [
      "                   all        232        289       0.63      0.646      0.675      0.281\n"
     ]
    },
    {
     "name": "stderr",
     "output_type": "stream",
     "text": [
      "\n"
     ]
    },
    {
     "name": "stdout",
     "output_type": "stream",
     "text": [
      "\n",
      "      Epoch    GPU_mem   box_loss   cls_loss   dfl_loss  Instances       Size\n"
     ]
    },
    {
     "name": "stderr",
     "output_type": "stream",
     "text": [
      "      39/50      2.25G      1.446      1.275      1.474         15        640: 100%|██████████| 51/51 [00:15<00:00,  3.29it/s]\n",
      "                 Class     Images  Instances      Box(P          R      mAP50  mAP50-95): 100%|██████████| 8/8 [00:05<00:00,  1.48it/s]"
     ]
    },
    {
     "name": "stdout",
     "output_type": "stream",
     "text": [
      "                   all        232        289      0.668       0.75      0.716       0.32\n"
     ]
    },
    {
     "name": "stderr",
     "output_type": "stream",
     "text": [
      "\n"
     ]
    },
    {
     "name": "stdout",
     "output_type": "stream",
     "text": [
      "\n",
      "      Epoch    GPU_mem   box_loss   cls_loss   dfl_loss  Instances       Size\n"
     ]
    },
    {
     "name": "stderr",
     "output_type": "stream",
     "text": [
      "      40/50      2.25G      1.406      1.238      1.478         11        640: 100%|██████████| 51/51 [00:14<00:00,  3.55it/s]\n",
      "                 Class     Images  Instances      Box(P          R      mAP50  mAP50-95): 100%|██████████| 8/8 [00:04<00:00,  1.68it/s]"
     ]
    },
    {
     "name": "stdout",
     "output_type": "stream",
     "text": [
      "                   all        232        289      0.625      0.743      0.694       0.29\n"
     ]
    },
    {
     "name": "stderr",
     "output_type": "stream",
     "text": [
      "\n"
     ]
    },
    {
     "name": "stdout",
     "output_type": "stream",
     "text": [
      "Closing dataloader mosaic\n",
      "\n",
      "      Epoch    GPU_mem   box_loss   cls_loss   dfl_loss  Instances       Size\n"
     ]
    },
    {
     "name": "stderr",
     "output_type": "stream",
     "text": [
      "      41/50      2.25G      1.541      1.286      1.586          9        640: 100%|██████████| 51/51 [00:17<00:00,  2.87it/s]\n",
      "                 Class     Images  Instances      Box(P          R      mAP50  mAP50-95): 100%|██████████| 8/8 [00:03<00:00,  2.27it/s]"
     ]
    },
    {
     "name": "stdout",
     "output_type": "stream",
     "text": [
      "                   all        232        289      0.701      0.693      0.702       0.31\n"
     ]
    },
    {
     "name": "stderr",
     "output_type": "stream",
     "text": [
      "\n"
     ]
    },
    {
     "name": "stdout",
     "output_type": "stream",
     "text": [
      "\n",
      "      Epoch    GPU_mem   box_loss   cls_loss   dfl_loss  Instances       Size\n"
     ]
    },
    {
     "name": "stderr",
     "output_type": "stream",
     "text": [
      "      42/50      2.25G      1.476      1.275      1.551          6        640: 100%|██████████| 51/51 [00:16<00:00,  3.14it/s]\n",
      "                 Class     Images  Instances      Box(P          R      mAP50  mAP50-95): 100%|██████████| 8/8 [00:05<00:00,  1.54it/s]"
     ]
    },
    {
     "name": "stdout",
     "output_type": "stream",
     "text": [
      "                   all        232        289      0.611      0.705      0.674      0.295\n"
     ]
    },
    {
     "name": "stderr",
     "output_type": "stream",
     "text": [
      "\n"
     ]
    },
    {
     "name": "stdout",
     "output_type": "stream",
     "text": [
      "\n",
      "      Epoch    GPU_mem   box_loss   cls_loss   dfl_loss  Instances       Size\n"
     ]
    },
    {
     "name": "stderr",
     "output_type": "stream",
     "text": [
      "      43/50      2.25G      1.474      1.221      1.564          7        640: 100%|██████████| 51/51 [00:14<00:00,  3.42it/s]\n",
      "                 Class     Images  Instances      Box(P          R      mAP50  mAP50-95): 100%|██████████| 8/8 [00:04<00:00,  1.76it/s]"
     ]
    },
    {
     "name": "stdout",
     "output_type": "stream",
     "text": [
      "                   all        232        289      0.689       0.69      0.681      0.314\n"
     ]
    },
    {
     "name": "stderr",
     "output_type": "stream",
     "text": [
      "\n"
     ]
    },
    {
     "name": "stdout",
     "output_type": "stream",
     "text": [
      "\n",
      "      Epoch    GPU_mem   box_loss   cls_loss   dfl_loss  Instances       Size\n"
     ]
    },
    {
     "name": "stderr",
     "output_type": "stream",
     "text": [
      "      44/50      2.24G      1.456      1.191      1.526          7        640: 100%|██████████| 51/51 [00:17<00:00,  2.95it/s]\n",
      "                 Class     Images  Instances      Box(P          R      mAP50  mAP50-95): 100%|██████████| 8/8 [00:03<00:00,  2.19it/s]"
     ]
    },
    {
     "name": "stdout",
     "output_type": "stream",
     "text": [
      "                   all        232        289      0.732      0.783      0.769      0.335\n"
     ]
    },
    {
     "name": "stderr",
     "output_type": "stream",
     "text": [
      "\n"
     ]
    },
    {
     "name": "stdout",
     "output_type": "stream",
     "text": [
      "\n",
      "      Epoch    GPU_mem   box_loss   cls_loss   dfl_loss  Instances       Size\n"
     ]
    },
    {
     "name": "stderr",
     "output_type": "stream",
     "text": [
      "      45/50      2.25G      1.415      1.195      1.498          6        640: 100%|██████████| 51/51 [00:16<00:00,  3.13it/s]\n",
      "                 Class     Images  Instances      Box(P          R      mAP50  mAP50-95): 100%|██████████| 8/8 [00:04<00:00,  1.69it/s]"
     ]
    },
    {
     "name": "stdout",
     "output_type": "stream",
     "text": [
      "                   all        232        289      0.686      0.707      0.736      0.315\n"
     ]
    },
    {
     "name": "stderr",
     "output_type": "stream",
     "text": [
      "\n"
     ]
    },
    {
     "name": "stdout",
     "output_type": "stream",
     "text": [
      "\n",
      "      Epoch    GPU_mem   box_loss   cls_loss   dfl_loss  Instances       Size\n"
     ]
    },
    {
     "name": "stderr",
     "output_type": "stream",
     "text": [
      "      46/50      2.25G      1.391      1.138      1.489          6        640: 100%|██████████| 51/51 [00:14<00:00,  3.45it/s]\n",
      "                 Class     Images  Instances      Box(P          R      mAP50  mAP50-95): 100%|██████████| 8/8 [00:04<00:00,  1.62it/s]"
     ]
    },
    {
     "name": "stdout",
     "output_type": "stream",
     "text": [
      "                   all        232        289      0.657      0.708      0.731      0.334\n"
     ]
    },
    {
     "name": "stderr",
     "output_type": "stream",
     "text": [
      "\n"
     ]
    },
    {
     "name": "stdout",
     "output_type": "stream",
     "text": [
      "\n",
      "      Epoch    GPU_mem   box_loss   cls_loss   dfl_loss  Instances       Size\n"
     ]
    },
    {
     "name": "stderr",
     "output_type": "stream",
     "text": [
      "      47/50      2.25G      1.406      1.138       1.51          8        640: 100%|██████████| 51/51 [00:16<00:00,  3.03it/s]\n",
      "                 Class     Images  Instances      Box(P          R      mAP50  mAP50-95): 100%|██████████| 8/8 [00:04<00:00,  1.98it/s]"
     ]
    },
    {
     "name": "stdout",
     "output_type": "stream",
     "text": [
      "                   all        232        289      0.712      0.721       0.73      0.335\n"
     ]
    },
    {
     "name": "stderr",
     "output_type": "stream",
     "text": [
      "\n"
     ]
    },
    {
     "name": "stdout",
     "output_type": "stream",
     "text": [
      "\n",
      "      Epoch    GPU_mem   box_loss   cls_loss   dfl_loss  Instances       Size\n"
     ]
    },
    {
     "name": "stderr",
     "output_type": "stream",
     "text": [
      "      48/50      2.24G      1.399      1.133      1.502          6        640: 100%|██████████| 51/51 [00:14<00:00,  3.42it/s]\n",
      "                 Class     Images  Instances      Box(P          R      mAP50  mAP50-95): 100%|██████████| 8/8 [00:04<00:00,  1.76it/s]"
     ]
    },
    {
     "name": "stdout",
     "output_type": "stream",
     "text": [
      "                   all        232        289      0.709       0.71      0.739      0.345\n"
     ]
    },
    {
     "name": "stderr",
     "output_type": "stream",
     "text": [
      "\n"
     ]
    },
    {
     "name": "stdout",
     "output_type": "stream",
     "text": [
      "\n",
      "      Epoch    GPU_mem   box_loss   cls_loss   dfl_loss  Instances       Size\n"
     ]
    },
    {
     "name": "stderr",
     "output_type": "stream",
     "text": [
      "      49/50      2.25G       1.37       1.15       1.47         14        640: 100%|██████████| 51/51 [00:15<00:00,  3.38it/s]\n",
      "                 Class     Images  Instances      Box(P          R      mAP50  mAP50-95): 100%|██████████| 8/8 [00:03<00:00,  2.34it/s]\n"
     ]
    },
    {
     "name": "stdout",
     "output_type": "stream",
     "text": [
      "                   all        232        289      0.694      0.694      0.699      0.329\n",
      "\n",
      "      Epoch    GPU_mem   box_loss   cls_loss   dfl_loss  Instances       Size\n"
     ]
    },
    {
     "name": "stderr",
     "output_type": "stream",
     "text": [
      "      50/50      2.25G      1.383      1.127      1.472          8        640: 100%|██████████| 51/51 [00:16<00:00,  3.02it/s]\n",
      "                 Class     Images  Instances      Box(P          R      mAP50  mAP50-95): 100%|██████████| 8/8 [00:04<00:00,  1.71it/s]"
     ]
    },
    {
     "name": "stdout",
     "output_type": "stream",
     "text": [
      "                   all        232        289      0.711      0.717      0.713      0.338\n"
     ]
    },
    {
     "name": "stderr",
     "output_type": "stream",
     "text": [
      "\n"
     ]
    },
    {
     "name": "stdout",
     "output_type": "stream",
     "text": [
      "\n",
      "50 epochs completed in 0.299 hours.\n",
      "Optimizer stripped from runs/detect/train/weights/last.pt, 6.3MB\n",
      "Optimizer stripped from runs/detect/train/weights/best.pt, 6.3MB\n",
      "\n",
      "Validating runs/detect/train/weights/best.pt...\n",
      "Ultralytics 8.3.39 🚀 Python-3.10.14 torch-2.2.2 CUDA:0 (Tesla T4, 14918MiB)\n",
      "Model summary (fused): 168 layers, 3,006,428 parameters, 0 gradients, 8.1 GFLOPs\n"
     ]
    },
    {
     "name": "stderr",
     "output_type": "stream",
     "text": [
      "                 Class     Images  Instances      Box(P          R      mAP50  mAP50-95): 100%|██████████| 8/8 [00:05<00:00,  1.53it/s]\n"
     ]
    },
    {
     "name": "stdout",
     "output_type": "stream",
     "text": [
      "                   all        232        289      0.707      0.711      0.739      0.345\n",
      "                bubble         13         13      0.449      0.502      0.456      0.229\n",
      "                  dent        123        123      0.912      0.967      0.985      0.535\n",
      "            foreignsub         30         30      0.834      0.837      0.909      0.368\n",
      "                  torn         67        123      0.633      0.537      0.606      0.249\n",
      "Speed: 0.6ms preprocess, 3.3ms inference, 0.0ms loss, 5.4ms postprocess per image\n",
      "Results saved to \u001b[1mruns/detect/train\u001b[0m\n",
      "\u001b[34m\u001b[1mMLflow: \u001b[0mresults logged to runs/mlflow\n",
      "\u001b[34m\u001b[1mMLflow: \u001b[0mdisable with 'yolo settings mlflow=False'\n"
     ]
    },
    {
     "data": {
      "text/plain": [
       "ultralytics.utils.metrics.DetMetrics object with attributes:\n",
       "\n",
       "ap_class_index: array([0, 1, 2, 3])\n",
       "box: ultralytics.utils.metrics.Metric object\n",
       "confusion_matrix: <ultralytics.utils.metrics.ConfusionMatrix object at 0x7f473dc7ae30>\n",
       "curves: ['Precision-Recall(B)', 'F1-Confidence(B)', 'Precision-Confidence(B)', 'Recall-Confidence(B)']\n",
       "curves_results: [[array([          0,    0.001001,    0.002002,    0.003003,    0.004004,    0.005005,    0.006006,    0.007007,    0.008008,    0.009009,     0.01001,    0.011011,    0.012012,    0.013013,    0.014014,    0.015015,    0.016016,    0.017017,    0.018018,    0.019019,     0.02002,    0.021021,    0.022022,    0.023023,\n",
       "          0.024024,    0.025025,    0.026026,    0.027027,    0.028028,    0.029029,     0.03003,    0.031031,    0.032032,    0.033033,    0.034034,    0.035035,    0.036036,    0.037037,    0.038038,    0.039039,     0.04004,    0.041041,    0.042042,    0.043043,    0.044044,    0.045045,    0.046046,    0.047047,\n",
       "          0.048048,    0.049049,     0.05005,    0.051051,    0.052052,    0.053053,    0.054054,    0.055055,    0.056056,    0.057057,    0.058058,    0.059059,     0.06006,    0.061061,    0.062062,    0.063063,    0.064064,    0.065065,    0.066066,    0.067067,    0.068068,    0.069069,     0.07007,    0.071071,\n",
       "          0.072072,    0.073073,    0.074074,    0.075075,    0.076076,    0.077077,    0.078078,    0.079079,     0.08008,    0.081081,    0.082082,    0.083083,    0.084084,    0.085085,    0.086086,    0.087087,    0.088088,    0.089089,     0.09009,    0.091091,    0.092092,    0.093093,    0.094094,    0.095095,\n",
       "          0.096096,    0.097097,    0.098098,    0.099099,      0.1001,      0.1011,      0.1021,      0.1031,      0.1041,     0.10511,     0.10611,     0.10711,     0.10811,     0.10911,     0.11011,     0.11111,     0.11211,     0.11311,     0.11411,     0.11512,     0.11612,     0.11712,     0.11812,     0.11912,\n",
       "           0.12012,     0.12112,     0.12212,     0.12312,     0.12412,     0.12513,     0.12613,     0.12713,     0.12813,     0.12913,     0.13013,     0.13113,     0.13213,     0.13313,     0.13413,     0.13514,     0.13614,     0.13714,     0.13814,     0.13914,     0.14014,     0.14114,     0.14214,     0.14314,\n",
       "           0.14414,     0.14515,     0.14615,     0.14715,     0.14815,     0.14915,     0.15015,     0.15115,     0.15215,     0.15315,     0.15415,     0.15516,     0.15616,     0.15716,     0.15816,     0.15916,     0.16016,     0.16116,     0.16216,     0.16316,     0.16416,     0.16517,     0.16617,     0.16717,\n",
       "           0.16817,     0.16917,     0.17017,     0.17117,     0.17217,     0.17317,     0.17417,     0.17518,     0.17618,     0.17718,     0.17818,     0.17918,     0.18018,     0.18118,     0.18218,     0.18318,     0.18418,     0.18519,     0.18619,     0.18719,     0.18819,     0.18919,     0.19019,     0.19119,\n",
       "           0.19219,     0.19319,     0.19419,      0.1952,      0.1962,      0.1972,      0.1982,      0.1992,      0.2002,      0.2012,      0.2022,      0.2032,      0.2042,     0.20521,     0.20621,     0.20721,     0.20821,     0.20921,     0.21021,     0.21121,     0.21221,     0.21321,     0.21421,     0.21522,\n",
       "           0.21622,     0.21722,     0.21822,     0.21922,     0.22022,     0.22122,     0.22222,     0.22322,     0.22422,     0.22523,     0.22623,     0.22723,     0.22823,     0.22923,     0.23023,     0.23123,     0.23223,     0.23323,     0.23423,     0.23524,     0.23624,     0.23724,     0.23824,     0.23924,\n",
       "           0.24024,     0.24124,     0.24224,     0.24324,     0.24424,     0.24525,     0.24625,     0.24725,     0.24825,     0.24925,     0.25025,     0.25125,     0.25225,     0.25325,     0.25425,     0.25526,     0.25626,     0.25726,     0.25826,     0.25926,     0.26026,     0.26126,     0.26226,     0.26326,\n",
       "           0.26426,     0.26527,     0.26627,     0.26727,     0.26827,     0.26927,     0.27027,     0.27127,     0.27227,     0.27327,     0.27427,     0.27528,     0.27628,     0.27728,     0.27828,     0.27928,     0.28028,     0.28128,     0.28228,     0.28328,     0.28428,     0.28529,     0.28629,     0.28729,\n",
       "           0.28829,     0.28929,     0.29029,     0.29129,     0.29229,     0.29329,     0.29429,      0.2953,      0.2963,      0.2973,      0.2983,      0.2993,      0.3003,      0.3013,      0.3023,      0.3033,      0.3043,     0.30531,     0.30631,     0.30731,     0.30831,     0.30931,     0.31031,     0.31131,\n",
       "           0.31231,     0.31331,     0.31431,     0.31532,     0.31632,     0.31732,     0.31832,     0.31932,     0.32032,     0.32132,     0.32232,     0.32332,     0.32432,     0.32533,     0.32633,     0.32733,     0.32833,     0.32933,     0.33033,     0.33133,     0.33233,     0.33333,     0.33433,     0.33534,\n",
       "           0.33634,     0.33734,     0.33834,     0.33934,     0.34034,     0.34134,     0.34234,     0.34334,     0.34434,     0.34535,     0.34635,     0.34735,     0.34835,     0.34935,     0.35035,     0.35135,     0.35235,     0.35335,     0.35435,     0.35536,     0.35636,     0.35736,     0.35836,     0.35936,\n",
       "           0.36036,     0.36136,     0.36236,     0.36336,     0.36436,     0.36537,     0.36637,     0.36737,     0.36837,     0.36937,     0.37037,     0.37137,     0.37237,     0.37337,     0.37437,     0.37538,     0.37638,     0.37738,     0.37838,     0.37938,     0.38038,     0.38138,     0.38238,     0.38338,\n",
       "           0.38438,     0.38539,     0.38639,     0.38739,     0.38839,     0.38939,     0.39039,     0.39139,     0.39239,     0.39339,     0.39439,      0.3954,      0.3964,      0.3974,      0.3984,      0.3994,      0.4004,      0.4014,      0.4024,      0.4034,      0.4044,     0.40541,     0.40641,     0.40741,\n",
       "           0.40841,     0.40941,     0.41041,     0.41141,     0.41241,     0.41341,     0.41441,     0.41542,     0.41642,     0.41742,     0.41842,     0.41942,     0.42042,     0.42142,     0.42242,     0.42342,     0.42442,     0.42543,     0.42643,     0.42743,     0.42843,     0.42943,     0.43043,     0.43143,\n",
       "           0.43243,     0.43343,     0.43443,     0.43544,     0.43644,     0.43744,     0.43844,     0.43944,     0.44044,     0.44144,     0.44244,     0.44344,     0.44444,     0.44545,     0.44645,     0.44745,     0.44845,     0.44945,     0.45045,     0.45145,     0.45245,     0.45345,     0.45445,     0.45546,\n",
       "           0.45646,     0.45746,     0.45846,     0.45946,     0.46046,     0.46146,     0.46246,     0.46346,     0.46446,     0.46547,     0.46647,     0.46747,     0.46847,     0.46947,     0.47047,     0.47147,     0.47247,     0.47347,     0.47447,     0.47548,     0.47648,     0.47748,     0.47848,     0.47948,\n",
       "           0.48048,     0.48148,     0.48248,     0.48348,     0.48448,     0.48549,     0.48649,     0.48749,     0.48849,     0.48949,     0.49049,     0.49149,     0.49249,     0.49349,     0.49449,      0.4955,      0.4965,      0.4975,      0.4985,      0.4995,      0.5005,      0.5015,      0.5025,      0.5035,\n",
       "            0.5045,     0.50551,     0.50651,     0.50751,     0.50851,     0.50951,     0.51051,     0.51151,     0.51251,     0.51351,     0.51451,     0.51552,     0.51652,     0.51752,     0.51852,     0.51952,     0.52052,     0.52152,     0.52252,     0.52352,     0.52452,     0.52553,     0.52653,     0.52753,\n",
       "           0.52853,     0.52953,     0.53053,     0.53153,     0.53253,     0.53353,     0.53453,     0.53554,     0.53654,     0.53754,     0.53854,     0.53954,     0.54054,     0.54154,     0.54254,     0.54354,     0.54454,     0.54555,     0.54655,     0.54755,     0.54855,     0.54955,     0.55055,     0.55155,\n",
       "           0.55255,     0.55355,     0.55455,     0.55556,     0.55656,     0.55756,     0.55856,     0.55956,     0.56056,     0.56156,     0.56256,     0.56356,     0.56456,     0.56557,     0.56657,     0.56757,     0.56857,     0.56957,     0.57057,     0.57157,     0.57257,     0.57357,     0.57457,     0.57558,\n",
       "           0.57658,     0.57758,     0.57858,     0.57958,     0.58058,     0.58158,     0.58258,     0.58358,     0.58458,     0.58559,     0.58659,     0.58759,     0.58859,     0.58959,     0.59059,     0.59159,     0.59259,     0.59359,     0.59459,      0.5956,      0.5966,      0.5976,      0.5986,      0.5996,\n",
       "            0.6006,      0.6016,      0.6026,      0.6036,      0.6046,     0.60561,     0.60661,     0.60761,     0.60861,     0.60961,     0.61061,     0.61161,     0.61261,     0.61361,     0.61461,     0.61562,     0.61662,     0.61762,     0.61862,     0.61962,     0.62062,     0.62162,     0.62262,     0.62362,\n",
       "           0.62462,     0.62563,     0.62663,     0.62763,     0.62863,     0.62963,     0.63063,     0.63163,     0.63263,     0.63363,     0.63463,     0.63564,     0.63664,     0.63764,     0.63864,     0.63964,     0.64064,     0.64164,     0.64264,     0.64364,     0.64464,     0.64565,     0.64665,     0.64765,\n",
       "           0.64865,     0.64965,     0.65065,     0.65165,     0.65265,     0.65365,     0.65465,     0.65566,     0.65666,     0.65766,     0.65866,     0.65966,     0.66066,     0.66166,     0.66266,     0.66366,     0.66466,     0.66567,     0.66667,     0.66767,     0.66867,     0.66967,     0.67067,     0.67167,\n",
       "           0.67267,     0.67367,     0.67467,     0.67568,     0.67668,     0.67768,     0.67868,     0.67968,     0.68068,     0.68168,     0.68268,     0.68368,     0.68468,     0.68569,     0.68669,     0.68769,     0.68869,     0.68969,     0.69069,     0.69169,     0.69269,     0.69369,     0.69469,      0.6957,\n",
       "            0.6967,      0.6977,      0.6987,      0.6997,      0.7007,      0.7017,      0.7027,      0.7037,      0.7047,     0.70571,     0.70671,     0.70771,     0.70871,     0.70971,     0.71071,     0.71171,     0.71271,     0.71371,     0.71471,     0.71572,     0.71672,     0.71772,     0.71872,     0.71972,\n",
       "           0.72072,     0.72172,     0.72272,     0.72372,     0.72472,     0.72573,     0.72673,     0.72773,     0.72873,     0.72973,     0.73073,     0.73173,     0.73273,     0.73373,     0.73473,     0.73574,     0.73674,     0.73774,     0.73874,     0.73974,     0.74074,     0.74174,     0.74274,     0.74374,\n",
       "           0.74474,     0.74575,     0.74675,     0.74775,     0.74875,     0.74975,     0.75075,     0.75175,     0.75275,     0.75375,     0.75475,     0.75576,     0.75676,     0.75776,     0.75876,     0.75976,     0.76076,     0.76176,     0.76276,     0.76376,     0.76476,     0.76577,     0.76677,     0.76777,\n",
       "           0.76877,     0.76977,     0.77077,     0.77177,     0.77277,     0.77377,     0.77477,     0.77578,     0.77678,     0.77778,     0.77878,     0.77978,     0.78078,     0.78178,     0.78278,     0.78378,     0.78478,     0.78579,     0.78679,     0.78779,     0.78879,     0.78979,     0.79079,     0.79179,\n",
       "           0.79279,     0.79379,     0.79479,      0.7958,      0.7968,      0.7978,      0.7988,      0.7998,      0.8008,      0.8018,      0.8028,      0.8038,      0.8048,     0.80581,     0.80681,     0.80781,     0.80881,     0.80981,     0.81081,     0.81181,     0.81281,     0.81381,     0.81481,     0.81582,\n",
       "           0.81682,     0.81782,     0.81882,     0.81982,     0.82082,     0.82182,     0.82282,     0.82382,     0.82482,     0.82583,     0.82683,     0.82783,     0.82883,     0.82983,     0.83083,     0.83183,     0.83283,     0.83383,     0.83483,     0.83584,     0.83684,     0.83784,     0.83884,     0.83984,\n",
       "           0.84084,     0.84184,     0.84284,     0.84384,     0.84484,     0.84585,     0.84685,     0.84785,     0.84885,     0.84985,     0.85085,     0.85185,     0.85285,     0.85385,     0.85485,     0.85586,     0.85686,     0.85786,     0.85886,     0.85986,     0.86086,     0.86186,     0.86286,     0.86386,\n",
       "           0.86486,     0.86587,     0.86687,     0.86787,     0.86887,     0.86987,     0.87087,     0.87187,     0.87287,     0.87387,     0.87487,     0.87588,     0.87688,     0.87788,     0.87888,     0.87988,     0.88088,     0.88188,     0.88288,     0.88388,     0.88488,     0.88589,     0.88689,     0.88789,\n",
       "           0.88889,     0.88989,     0.89089,     0.89189,     0.89289,     0.89389,     0.89489,      0.8959,      0.8969,      0.8979,      0.8989,      0.8999,      0.9009,      0.9019,      0.9029,      0.9039,      0.9049,     0.90591,     0.90691,     0.90791,     0.90891,     0.90991,     0.91091,     0.91191,\n",
       "           0.91291,     0.91391,     0.91491,     0.91592,     0.91692,     0.91792,     0.91892,     0.91992,     0.92092,     0.92192,     0.92292,     0.92392,     0.92492,     0.92593,     0.92693,     0.92793,     0.92893,     0.92993,     0.93093,     0.93193,     0.93293,     0.93393,     0.93493,     0.93594,\n",
       "           0.93694,     0.93794,     0.93894,     0.93994,     0.94094,     0.94194,     0.94294,     0.94394,     0.94494,     0.94595,     0.94695,     0.94795,     0.94895,     0.94995,     0.95095,     0.95195,     0.95295,     0.95395,     0.95495,     0.95596,     0.95696,     0.95796,     0.95896,     0.95996,\n",
       "           0.96096,     0.96196,     0.96296,     0.96396,     0.96496,     0.96597,     0.96697,     0.96797,     0.96897,     0.96997,     0.97097,     0.97197,     0.97297,     0.97397,     0.97497,     0.97598,     0.97698,     0.97798,     0.97898,     0.97998,     0.98098,     0.98198,     0.98298,     0.98398,\n",
       "           0.98498,     0.98599,     0.98699,     0.98799,     0.98899,     0.98999,     0.99099,     0.99199,     0.99299,     0.99399,     0.99499,       0.996,       0.997,       0.998,       0.999,           1]), array([[        0.5,         0.5,         0.5, ...,     0.11504,     0.11504,           0],\n",
       "       [          1,           1,           1, ...,     0.49798,     0.49798,           0],\n",
       "       [          1,           1,           1, ...,   0.0048604,   0.0024302,           0],\n",
       "       [          1,           1,           1, ...,   0.0025466,   0.0012733,           0]]), 'Recall', 'Precision'], [array([          0,    0.001001,    0.002002,    0.003003,    0.004004,    0.005005,    0.006006,    0.007007,    0.008008,    0.009009,     0.01001,    0.011011,    0.012012,    0.013013,    0.014014,    0.015015,    0.016016,    0.017017,    0.018018,    0.019019,     0.02002,    0.021021,    0.022022,    0.023023,\n",
       "          0.024024,    0.025025,    0.026026,    0.027027,    0.028028,    0.029029,     0.03003,    0.031031,    0.032032,    0.033033,    0.034034,    0.035035,    0.036036,    0.037037,    0.038038,    0.039039,     0.04004,    0.041041,    0.042042,    0.043043,    0.044044,    0.045045,    0.046046,    0.047047,\n",
       "          0.048048,    0.049049,     0.05005,    0.051051,    0.052052,    0.053053,    0.054054,    0.055055,    0.056056,    0.057057,    0.058058,    0.059059,     0.06006,    0.061061,    0.062062,    0.063063,    0.064064,    0.065065,    0.066066,    0.067067,    0.068068,    0.069069,     0.07007,    0.071071,\n",
       "          0.072072,    0.073073,    0.074074,    0.075075,    0.076076,    0.077077,    0.078078,    0.079079,     0.08008,    0.081081,    0.082082,    0.083083,    0.084084,    0.085085,    0.086086,    0.087087,    0.088088,    0.089089,     0.09009,    0.091091,    0.092092,    0.093093,    0.094094,    0.095095,\n",
       "          0.096096,    0.097097,    0.098098,    0.099099,      0.1001,      0.1011,      0.1021,      0.1031,      0.1041,     0.10511,     0.10611,     0.10711,     0.10811,     0.10911,     0.11011,     0.11111,     0.11211,     0.11311,     0.11411,     0.11512,     0.11612,     0.11712,     0.11812,     0.11912,\n",
       "           0.12012,     0.12112,     0.12212,     0.12312,     0.12412,     0.12513,     0.12613,     0.12713,     0.12813,     0.12913,     0.13013,     0.13113,     0.13213,     0.13313,     0.13413,     0.13514,     0.13614,     0.13714,     0.13814,     0.13914,     0.14014,     0.14114,     0.14214,     0.14314,\n",
       "           0.14414,     0.14515,     0.14615,     0.14715,     0.14815,     0.14915,     0.15015,     0.15115,     0.15215,     0.15315,     0.15415,     0.15516,     0.15616,     0.15716,     0.15816,     0.15916,     0.16016,     0.16116,     0.16216,     0.16316,     0.16416,     0.16517,     0.16617,     0.16717,\n",
       "           0.16817,     0.16917,     0.17017,     0.17117,     0.17217,     0.17317,     0.17417,     0.17518,     0.17618,     0.17718,     0.17818,     0.17918,     0.18018,     0.18118,     0.18218,     0.18318,     0.18418,     0.18519,     0.18619,     0.18719,     0.18819,     0.18919,     0.19019,     0.19119,\n",
       "           0.19219,     0.19319,     0.19419,      0.1952,      0.1962,      0.1972,      0.1982,      0.1992,      0.2002,      0.2012,      0.2022,      0.2032,      0.2042,     0.20521,     0.20621,     0.20721,     0.20821,     0.20921,     0.21021,     0.21121,     0.21221,     0.21321,     0.21421,     0.21522,\n",
       "           0.21622,     0.21722,     0.21822,     0.21922,     0.22022,     0.22122,     0.22222,     0.22322,     0.22422,     0.22523,     0.22623,     0.22723,     0.22823,     0.22923,     0.23023,     0.23123,     0.23223,     0.23323,     0.23423,     0.23524,     0.23624,     0.23724,     0.23824,     0.23924,\n",
       "           0.24024,     0.24124,     0.24224,     0.24324,     0.24424,     0.24525,     0.24625,     0.24725,     0.24825,     0.24925,     0.25025,     0.25125,     0.25225,     0.25325,     0.25425,     0.25526,     0.25626,     0.25726,     0.25826,     0.25926,     0.26026,     0.26126,     0.26226,     0.26326,\n",
       "           0.26426,     0.26527,     0.26627,     0.26727,     0.26827,     0.26927,     0.27027,     0.27127,     0.27227,     0.27327,     0.27427,     0.27528,     0.27628,     0.27728,     0.27828,     0.27928,     0.28028,     0.28128,     0.28228,     0.28328,     0.28428,     0.28529,     0.28629,     0.28729,\n",
       "           0.28829,     0.28929,     0.29029,     0.29129,     0.29229,     0.29329,     0.29429,      0.2953,      0.2963,      0.2973,      0.2983,      0.2993,      0.3003,      0.3013,      0.3023,      0.3033,      0.3043,     0.30531,     0.30631,     0.30731,     0.30831,     0.30931,     0.31031,     0.31131,\n",
       "           0.31231,     0.31331,     0.31431,     0.31532,     0.31632,     0.31732,     0.31832,     0.31932,     0.32032,     0.32132,     0.32232,     0.32332,     0.32432,     0.32533,     0.32633,     0.32733,     0.32833,     0.32933,     0.33033,     0.33133,     0.33233,     0.33333,     0.33433,     0.33534,\n",
       "           0.33634,     0.33734,     0.33834,     0.33934,     0.34034,     0.34134,     0.34234,     0.34334,     0.34434,     0.34535,     0.34635,     0.34735,     0.34835,     0.34935,     0.35035,     0.35135,     0.35235,     0.35335,     0.35435,     0.35536,     0.35636,     0.35736,     0.35836,     0.35936,\n",
       "           0.36036,     0.36136,     0.36236,     0.36336,     0.36436,     0.36537,     0.36637,     0.36737,     0.36837,     0.36937,     0.37037,     0.37137,     0.37237,     0.37337,     0.37437,     0.37538,     0.37638,     0.37738,     0.37838,     0.37938,     0.38038,     0.38138,     0.38238,     0.38338,\n",
       "           0.38438,     0.38539,     0.38639,     0.38739,     0.38839,     0.38939,     0.39039,     0.39139,     0.39239,     0.39339,     0.39439,      0.3954,      0.3964,      0.3974,      0.3984,      0.3994,      0.4004,      0.4014,      0.4024,      0.4034,      0.4044,     0.40541,     0.40641,     0.40741,\n",
       "           0.40841,     0.40941,     0.41041,     0.41141,     0.41241,     0.41341,     0.41441,     0.41542,     0.41642,     0.41742,     0.41842,     0.41942,     0.42042,     0.42142,     0.42242,     0.42342,     0.42442,     0.42543,     0.42643,     0.42743,     0.42843,     0.42943,     0.43043,     0.43143,\n",
       "           0.43243,     0.43343,     0.43443,     0.43544,     0.43644,     0.43744,     0.43844,     0.43944,     0.44044,     0.44144,     0.44244,     0.44344,     0.44444,     0.44545,     0.44645,     0.44745,     0.44845,     0.44945,     0.45045,     0.45145,     0.45245,     0.45345,     0.45445,     0.45546,\n",
       "           0.45646,     0.45746,     0.45846,     0.45946,     0.46046,     0.46146,     0.46246,     0.46346,     0.46446,     0.46547,     0.46647,     0.46747,     0.46847,     0.46947,     0.47047,     0.47147,     0.47247,     0.47347,     0.47447,     0.47548,     0.47648,     0.47748,     0.47848,     0.47948,\n",
       "           0.48048,     0.48148,     0.48248,     0.48348,     0.48448,     0.48549,     0.48649,     0.48749,     0.48849,     0.48949,     0.49049,     0.49149,     0.49249,     0.49349,     0.49449,      0.4955,      0.4965,      0.4975,      0.4985,      0.4995,      0.5005,      0.5015,      0.5025,      0.5035,\n",
       "            0.5045,     0.50551,     0.50651,     0.50751,     0.50851,     0.50951,     0.51051,     0.51151,     0.51251,     0.51351,     0.51451,     0.51552,     0.51652,     0.51752,     0.51852,     0.51952,     0.52052,     0.52152,     0.52252,     0.52352,     0.52452,     0.52553,     0.52653,     0.52753,\n",
       "           0.52853,     0.52953,     0.53053,     0.53153,     0.53253,     0.53353,     0.53453,     0.53554,     0.53654,     0.53754,     0.53854,     0.53954,     0.54054,     0.54154,     0.54254,     0.54354,     0.54454,     0.54555,     0.54655,     0.54755,     0.54855,     0.54955,     0.55055,     0.55155,\n",
       "           0.55255,     0.55355,     0.55455,     0.55556,     0.55656,     0.55756,     0.55856,     0.55956,     0.56056,     0.56156,     0.56256,     0.56356,     0.56456,     0.56557,     0.56657,     0.56757,     0.56857,     0.56957,     0.57057,     0.57157,     0.57257,     0.57357,     0.57457,     0.57558,\n",
       "           0.57658,     0.57758,     0.57858,     0.57958,     0.58058,     0.58158,     0.58258,     0.58358,     0.58458,     0.58559,     0.58659,     0.58759,     0.58859,     0.58959,     0.59059,     0.59159,     0.59259,     0.59359,     0.59459,      0.5956,      0.5966,      0.5976,      0.5986,      0.5996,\n",
       "            0.6006,      0.6016,      0.6026,      0.6036,      0.6046,     0.60561,     0.60661,     0.60761,     0.60861,     0.60961,     0.61061,     0.61161,     0.61261,     0.61361,     0.61461,     0.61562,     0.61662,     0.61762,     0.61862,     0.61962,     0.62062,     0.62162,     0.62262,     0.62362,\n",
       "           0.62462,     0.62563,     0.62663,     0.62763,     0.62863,     0.62963,     0.63063,     0.63163,     0.63263,     0.63363,     0.63463,     0.63564,     0.63664,     0.63764,     0.63864,     0.63964,     0.64064,     0.64164,     0.64264,     0.64364,     0.64464,     0.64565,     0.64665,     0.64765,\n",
       "           0.64865,     0.64965,     0.65065,     0.65165,     0.65265,     0.65365,     0.65465,     0.65566,     0.65666,     0.65766,     0.65866,     0.65966,     0.66066,     0.66166,     0.66266,     0.66366,     0.66466,     0.66567,     0.66667,     0.66767,     0.66867,     0.66967,     0.67067,     0.67167,\n",
       "           0.67267,     0.67367,     0.67467,     0.67568,     0.67668,     0.67768,     0.67868,     0.67968,     0.68068,     0.68168,     0.68268,     0.68368,     0.68468,     0.68569,     0.68669,     0.68769,     0.68869,     0.68969,     0.69069,     0.69169,     0.69269,     0.69369,     0.69469,      0.6957,\n",
       "            0.6967,      0.6977,      0.6987,      0.6997,      0.7007,      0.7017,      0.7027,      0.7037,      0.7047,     0.70571,     0.70671,     0.70771,     0.70871,     0.70971,     0.71071,     0.71171,     0.71271,     0.71371,     0.71471,     0.71572,     0.71672,     0.71772,     0.71872,     0.71972,\n",
       "           0.72072,     0.72172,     0.72272,     0.72372,     0.72472,     0.72573,     0.72673,     0.72773,     0.72873,     0.72973,     0.73073,     0.73173,     0.73273,     0.73373,     0.73473,     0.73574,     0.73674,     0.73774,     0.73874,     0.73974,     0.74074,     0.74174,     0.74274,     0.74374,\n",
       "           0.74474,     0.74575,     0.74675,     0.74775,     0.74875,     0.74975,     0.75075,     0.75175,     0.75275,     0.75375,     0.75475,     0.75576,     0.75676,     0.75776,     0.75876,     0.75976,     0.76076,     0.76176,     0.76276,     0.76376,     0.76476,     0.76577,     0.76677,     0.76777,\n",
       "           0.76877,     0.76977,     0.77077,     0.77177,     0.77277,     0.77377,     0.77477,     0.77578,     0.77678,     0.77778,     0.77878,     0.77978,     0.78078,     0.78178,     0.78278,     0.78378,     0.78478,     0.78579,     0.78679,     0.78779,     0.78879,     0.78979,     0.79079,     0.79179,\n",
       "           0.79279,     0.79379,     0.79479,      0.7958,      0.7968,      0.7978,      0.7988,      0.7998,      0.8008,      0.8018,      0.8028,      0.8038,      0.8048,     0.80581,     0.80681,     0.80781,     0.80881,     0.80981,     0.81081,     0.81181,     0.81281,     0.81381,     0.81481,     0.81582,\n",
       "           0.81682,     0.81782,     0.81882,     0.81982,     0.82082,     0.82182,     0.82282,     0.82382,     0.82482,     0.82583,     0.82683,     0.82783,     0.82883,     0.82983,     0.83083,     0.83183,     0.83283,     0.83383,     0.83483,     0.83584,     0.83684,     0.83784,     0.83884,     0.83984,\n",
       "           0.84084,     0.84184,     0.84284,     0.84384,     0.84484,     0.84585,     0.84685,     0.84785,     0.84885,     0.84985,     0.85085,     0.85185,     0.85285,     0.85385,     0.85485,     0.85586,     0.85686,     0.85786,     0.85886,     0.85986,     0.86086,     0.86186,     0.86286,     0.86386,\n",
       "           0.86486,     0.86587,     0.86687,     0.86787,     0.86887,     0.86987,     0.87087,     0.87187,     0.87287,     0.87387,     0.87487,     0.87588,     0.87688,     0.87788,     0.87888,     0.87988,     0.88088,     0.88188,     0.88288,     0.88388,     0.88488,     0.88589,     0.88689,     0.88789,\n",
       "           0.88889,     0.88989,     0.89089,     0.89189,     0.89289,     0.89389,     0.89489,      0.8959,      0.8969,      0.8979,      0.8989,      0.8999,      0.9009,      0.9019,      0.9029,      0.9039,      0.9049,     0.90591,     0.90691,     0.90791,     0.90891,     0.90991,     0.91091,     0.91191,\n",
       "           0.91291,     0.91391,     0.91491,     0.91592,     0.91692,     0.91792,     0.91892,     0.91992,     0.92092,     0.92192,     0.92292,     0.92392,     0.92492,     0.92593,     0.92693,     0.92793,     0.92893,     0.92993,     0.93093,     0.93193,     0.93293,     0.93393,     0.93493,     0.93594,\n",
       "           0.93694,     0.93794,     0.93894,     0.93994,     0.94094,     0.94194,     0.94294,     0.94394,     0.94494,     0.94595,     0.94695,     0.94795,     0.94895,     0.94995,     0.95095,     0.95195,     0.95295,     0.95395,     0.95495,     0.95596,     0.95696,     0.95796,     0.95896,     0.95996,\n",
       "           0.96096,     0.96196,     0.96296,     0.96396,     0.96496,     0.96597,     0.96697,     0.96797,     0.96897,     0.96997,     0.97097,     0.97197,     0.97297,     0.97397,     0.97497,     0.97598,     0.97698,     0.97798,     0.97898,     0.97998,     0.98098,     0.98198,     0.98298,     0.98398,\n",
       "           0.98498,     0.98599,     0.98699,     0.98799,     0.98899,     0.98999,     0.99099,     0.99199,     0.99299,     0.99399,     0.99499,       0.996,       0.997,       0.998,       0.999,           1]), array([[   0.036517,    0.036517,     0.06419, ...,           0,           0,           0],\n",
       "       [     0.2312,      0.2312,     0.29564, ...,           0,           0,           0],\n",
       "       [    0.27586,     0.27586,     0.31341, ...,           0,           0,           0],\n",
       "       [   0.098129,    0.098129,     0.14479, ...,           0,           0,           0]]), 'Confidence', 'F1'], [array([          0,    0.001001,    0.002002,    0.003003,    0.004004,    0.005005,    0.006006,    0.007007,    0.008008,    0.009009,     0.01001,    0.011011,    0.012012,    0.013013,    0.014014,    0.015015,    0.016016,    0.017017,    0.018018,    0.019019,     0.02002,    0.021021,    0.022022,    0.023023,\n",
       "          0.024024,    0.025025,    0.026026,    0.027027,    0.028028,    0.029029,     0.03003,    0.031031,    0.032032,    0.033033,    0.034034,    0.035035,    0.036036,    0.037037,    0.038038,    0.039039,     0.04004,    0.041041,    0.042042,    0.043043,    0.044044,    0.045045,    0.046046,    0.047047,\n",
       "          0.048048,    0.049049,     0.05005,    0.051051,    0.052052,    0.053053,    0.054054,    0.055055,    0.056056,    0.057057,    0.058058,    0.059059,     0.06006,    0.061061,    0.062062,    0.063063,    0.064064,    0.065065,    0.066066,    0.067067,    0.068068,    0.069069,     0.07007,    0.071071,\n",
       "          0.072072,    0.073073,    0.074074,    0.075075,    0.076076,    0.077077,    0.078078,    0.079079,     0.08008,    0.081081,    0.082082,    0.083083,    0.084084,    0.085085,    0.086086,    0.087087,    0.088088,    0.089089,     0.09009,    0.091091,    0.092092,    0.093093,    0.094094,    0.095095,\n",
       "          0.096096,    0.097097,    0.098098,    0.099099,      0.1001,      0.1011,      0.1021,      0.1031,      0.1041,     0.10511,     0.10611,     0.10711,     0.10811,     0.10911,     0.11011,     0.11111,     0.11211,     0.11311,     0.11411,     0.11512,     0.11612,     0.11712,     0.11812,     0.11912,\n",
       "           0.12012,     0.12112,     0.12212,     0.12312,     0.12412,     0.12513,     0.12613,     0.12713,     0.12813,     0.12913,     0.13013,     0.13113,     0.13213,     0.13313,     0.13413,     0.13514,     0.13614,     0.13714,     0.13814,     0.13914,     0.14014,     0.14114,     0.14214,     0.14314,\n",
       "           0.14414,     0.14515,     0.14615,     0.14715,     0.14815,     0.14915,     0.15015,     0.15115,     0.15215,     0.15315,     0.15415,     0.15516,     0.15616,     0.15716,     0.15816,     0.15916,     0.16016,     0.16116,     0.16216,     0.16316,     0.16416,     0.16517,     0.16617,     0.16717,\n",
       "           0.16817,     0.16917,     0.17017,     0.17117,     0.17217,     0.17317,     0.17417,     0.17518,     0.17618,     0.17718,     0.17818,     0.17918,     0.18018,     0.18118,     0.18218,     0.18318,     0.18418,     0.18519,     0.18619,     0.18719,     0.18819,     0.18919,     0.19019,     0.19119,\n",
       "           0.19219,     0.19319,     0.19419,      0.1952,      0.1962,      0.1972,      0.1982,      0.1992,      0.2002,      0.2012,      0.2022,      0.2032,      0.2042,     0.20521,     0.20621,     0.20721,     0.20821,     0.20921,     0.21021,     0.21121,     0.21221,     0.21321,     0.21421,     0.21522,\n",
       "           0.21622,     0.21722,     0.21822,     0.21922,     0.22022,     0.22122,     0.22222,     0.22322,     0.22422,     0.22523,     0.22623,     0.22723,     0.22823,     0.22923,     0.23023,     0.23123,     0.23223,     0.23323,     0.23423,     0.23524,     0.23624,     0.23724,     0.23824,     0.23924,\n",
       "           0.24024,     0.24124,     0.24224,     0.24324,     0.24424,     0.24525,     0.24625,     0.24725,     0.24825,     0.24925,     0.25025,     0.25125,     0.25225,     0.25325,     0.25425,     0.25526,     0.25626,     0.25726,     0.25826,     0.25926,     0.26026,     0.26126,     0.26226,     0.26326,\n",
       "           0.26426,     0.26527,     0.26627,     0.26727,     0.26827,     0.26927,     0.27027,     0.27127,     0.27227,     0.27327,     0.27427,     0.27528,     0.27628,     0.27728,     0.27828,     0.27928,     0.28028,     0.28128,     0.28228,     0.28328,     0.28428,     0.28529,     0.28629,     0.28729,\n",
       "           0.28829,     0.28929,     0.29029,     0.29129,     0.29229,     0.29329,     0.29429,      0.2953,      0.2963,      0.2973,      0.2983,      0.2993,      0.3003,      0.3013,      0.3023,      0.3033,      0.3043,     0.30531,     0.30631,     0.30731,     0.30831,     0.30931,     0.31031,     0.31131,\n",
       "           0.31231,     0.31331,     0.31431,     0.31532,     0.31632,     0.31732,     0.31832,     0.31932,     0.32032,     0.32132,     0.32232,     0.32332,     0.32432,     0.32533,     0.32633,     0.32733,     0.32833,     0.32933,     0.33033,     0.33133,     0.33233,     0.33333,     0.33433,     0.33534,\n",
       "           0.33634,     0.33734,     0.33834,     0.33934,     0.34034,     0.34134,     0.34234,     0.34334,     0.34434,     0.34535,     0.34635,     0.34735,     0.34835,     0.34935,     0.35035,     0.35135,     0.35235,     0.35335,     0.35435,     0.35536,     0.35636,     0.35736,     0.35836,     0.35936,\n",
       "           0.36036,     0.36136,     0.36236,     0.36336,     0.36436,     0.36537,     0.36637,     0.36737,     0.36837,     0.36937,     0.37037,     0.37137,     0.37237,     0.37337,     0.37437,     0.37538,     0.37638,     0.37738,     0.37838,     0.37938,     0.38038,     0.38138,     0.38238,     0.38338,\n",
       "           0.38438,     0.38539,     0.38639,     0.38739,     0.38839,     0.38939,     0.39039,     0.39139,     0.39239,     0.39339,     0.39439,      0.3954,      0.3964,      0.3974,      0.3984,      0.3994,      0.4004,      0.4014,      0.4024,      0.4034,      0.4044,     0.40541,     0.40641,     0.40741,\n",
       "           0.40841,     0.40941,     0.41041,     0.41141,     0.41241,     0.41341,     0.41441,     0.41542,     0.41642,     0.41742,     0.41842,     0.41942,     0.42042,     0.42142,     0.42242,     0.42342,     0.42442,     0.42543,     0.42643,     0.42743,     0.42843,     0.42943,     0.43043,     0.43143,\n",
       "           0.43243,     0.43343,     0.43443,     0.43544,     0.43644,     0.43744,     0.43844,     0.43944,     0.44044,     0.44144,     0.44244,     0.44344,     0.44444,     0.44545,     0.44645,     0.44745,     0.44845,     0.44945,     0.45045,     0.45145,     0.45245,     0.45345,     0.45445,     0.45546,\n",
       "           0.45646,     0.45746,     0.45846,     0.45946,     0.46046,     0.46146,     0.46246,     0.46346,     0.46446,     0.46547,     0.46647,     0.46747,     0.46847,     0.46947,     0.47047,     0.47147,     0.47247,     0.47347,     0.47447,     0.47548,     0.47648,     0.47748,     0.47848,     0.47948,\n",
       "           0.48048,     0.48148,     0.48248,     0.48348,     0.48448,     0.48549,     0.48649,     0.48749,     0.48849,     0.48949,     0.49049,     0.49149,     0.49249,     0.49349,     0.49449,      0.4955,      0.4965,      0.4975,      0.4985,      0.4995,      0.5005,      0.5015,      0.5025,      0.5035,\n",
       "            0.5045,     0.50551,     0.50651,     0.50751,     0.50851,     0.50951,     0.51051,     0.51151,     0.51251,     0.51351,     0.51451,     0.51552,     0.51652,     0.51752,     0.51852,     0.51952,     0.52052,     0.52152,     0.52252,     0.52352,     0.52452,     0.52553,     0.52653,     0.52753,\n",
       "           0.52853,     0.52953,     0.53053,     0.53153,     0.53253,     0.53353,     0.53453,     0.53554,     0.53654,     0.53754,     0.53854,     0.53954,     0.54054,     0.54154,     0.54254,     0.54354,     0.54454,     0.54555,     0.54655,     0.54755,     0.54855,     0.54955,     0.55055,     0.55155,\n",
       "           0.55255,     0.55355,     0.55455,     0.55556,     0.55656,     0.55756,     0.55856,     0.55956,     0.56056,     0.56156,     0.56256,     0.56356,     0.56456,     0.56557,     0.56657,     0.56757,     0.56857,     0.56957,     0.57057,     0.57157,     0.57257,     0.57357,     0.57457,     0.57558,\n",
       "           0.57658,     0.57758,     0.57858,     0.57958,     0.58058,     0.58158,     0.58258,     0.58358,     0.58458,     0.58559,     0.58659,     0.58759,     0.58859,     0.58959,     0.59059,     0.59159,     0.59259,     0.59359,     0.59459,      0.5956,      0.5966,      0.5976,      0.5986,      0.5996,\n",
       "            0.6006,      0.6016,      0.6026,      0.6036,      0.6046,     0.60561,     0.60661,     0.60761,     0.60861,     0.60961,     0.61061,     0.61161,     0.61261,     0.61361,     0.61461,     0.61562,     0.61662,     0.61762,     0.61862,     0.61962,     0.62062,     0.62162,     0.62262,     0.62362,\n",
       "           0.62462,     0.62563,     0.62663,     0.62763,     0.62863,     0.62963,     0.63063,     0.63163,     0.63263,     0.63363,     0.63463,     0.63564,     0.63664,     0.63764,     0.63864,     0.63964,     0.64064,     0.64164,     0.64264,     0.64364,     0.64464,     0.64565,     0.64665,     0.64765,\n",
       "           0.64865,     0.64965,     0.65065,     0.65165,     0.65265,     0.65365,     0.65465,     0.65566,     0.65666,     0.65766,     0.65866,     0.65966,     0.66066,     0.66166,     0.66266,     0.66366,     0.66466,     0.66567,     0.66667,     0.66767,     0.66867,     0.66967,     0.67067,     0.67167,\n",
       "           0.67267,     0.67367,     0.67467,     0.67568,     0.67668,     0.67768,     0.67868,     0.67968,     0.68068,     0.68168,     0.68268,     0.68368,     0.68468,     0.68569,     0.68669,     0.68769,     0.68869,     0.68969,     0.69069,     0.69169,     0.69269,     0.69369,     0.69469,      0.6957,\n",
       "            0.6967,      0.6977,      0.6987,      0.6997,      0.7007,      0.7017,      0.7027,      0.7037,      0.7047,     0.70571,     0.70671,     0.70771,     0.70871,     0.70971,     0.71071,     0.71171,     0.71271,     0.71371,     0.71471,     0.71572,     0.71672,     0.71772,     0.71872,     0.71972,\n",
       "           0.72072,     0.72172,     0.72272,     0.72372,     0.72472,     0.72573,     0.72673,     0.72773,     0.72873,     0.72973,     0.73073,     0.73173,     0.73273,     0.73373,     0.73473,     0.73574,     0.73674,     0.73774,     0.73874,     0.73974,     0.74074,     0.74174,     0.74274,     0.74374,\n",
       "           0.74474,     0.74575,     0.74675,     0.74775,     0.74875,     0.74975,     0.75075,     0.75175,     0.75275,     0.75375,     0.75475,     0.75576,     0.75676,     0.75776,     0.75876,     0.75976,     0.76076,     0.76176,     0.76276,     0.76376,     0.76476,     0.76577,     0.76677,     0.76777,\n",
       "           0.76877,     0.76977,     0.77077,     0.77177,     0.77277,     0.77377,     0.77477,     0.77578,     0.77678,     0.77778,     0.77878,     0.77978,     0.78078,     0.78178,     0.78278,     0.78378,     0.78478,     0.78579,     0.78679,     0.78779,     0.78879,     0.78979,     0.79079,     0.79179,\n",
       "           0.79279,     0.79379,     0.79479,      0.7958,      0.7968,      0.7978,      0.7988,      0.7998,      0.8008,      0.8018,      0.8028,      0.8038,      0.8048,     0.80581,     0.80681,     0.80781,     0.80881,     0.80981,     0.81081,     0.81181,     0.81281,     0.81381,     0.81481,     0.81582,\n",
       "           0.81682,     0.81782,     0.81882,     0.81982,     0.82082,     0.82182,     0.82282,     0.82382,     0.82482,     0.82583,     0.82683,     0.82783,     0.82883,     0.82983,     0.83083,     0.83183,     0.83283,     0.83383,     0.83483,     0.83584,     0.83684,     0.83784,     0.83884,     0.83984,\n",
       "           0.84084,     0.84184,     0.84284,     0.84384,     0.84484,     0.84585,     0.84685,     0.84785,     0.84885,     0.84985,     0.85085,     0.85185,     0.85285,     0.85385,     0.85485,     0.85586,     0.85686,     0.85786,     0.85886,     0.85986,     0.86086,     0.86186,     0.86286,     0.86386,\n",
       "           0.86486,     0.86587,     0.86687,     0.86787,     0.86887,     0.86987,     0.87087,     0.87187,     0.87287,     0.87387,     0.87487,     0.87588,     0.87688,     0.87788,     0.87888,     0.87988,     0.88088,     0.88188,     0.88288,     0.88388,     0.88488,     0.88589,     0.88689,     0.88789,\n",
       "           0.88889,     0.88989,     0.89089,     0.89189,     0.89289,     0.89389,     0.89489,      0.8959,      0.8969,      0.8979,      0.8989,      0.8999,      0.9009,      0.9019,      0.9029,      0.9039,      0.9049,     0.90591,     0.90691,     0.90791,     0.90891,     0.90991,     0.91091,     0.91191,\n",
       "           0.91291,     0.91391,     0.91491,     0.91592,     0.91692,     0.91792,     0.91892,     0.91992,     0.92092,     0.92192,     0.92292,     0.92392,     0.92492,     0.92593,     0.92693,     0.92793,     0.92893,     0.92993,     0.93093,     0.93193,     0.93293,     0.93393,     0.93493,     0.93594,\n",
       "           0.93694,     0.93794,     0.93894,     0.93994,     0.94094,     0.94194,     0.94294,     0.94394,     0.94494,     0.94595,     0.94695,     0.94795,     0.94895,     0.94995,     0.95095,     0.95195,     0.95295,     0.95395,     0.95495,     0.95596,     0.95696,     0.95796,     0.95896,     0.95996,\n",
       "           0.96096,     0.96196,     0.96296,     0.96396,     0.96496,     0.96597,     0.96697,     0.96797,     0.96897,     0.96997,     0.97097,     0.97197,     0.97297,     0.97397,     0.97497,     0.97598,     0.97698,     0.97798,     0.97898,     0.97998,     0.98098,     0.98198,     0.98298,     0.98398,\n",
       "           0.98498,     0.98599,     0.98699,     0.98799,     0.98899,     0.98999,     0.99099,     0.99199,     0.99299,     0.99399,     0.99499,       0.996,       0.997,       0.998,       0.999,           1]), array([[   0.018598,    0.018598,    0.033159, ...,           1,           1,           1],\n",
       "       [    0.13071,     0.13071,     0.17346, ...,           1,           1,           1],\n",
       "       [    0.16185,     0.16185,     0.18832, ...,           1,           1,           1],\n",
       "       [   0.051709,    0.051709,    0.078361, ...,           1,           1,           1]]), 'Confidence', 'Precision'], [array([          0,    0.001001,    0.002002,    0.003003,    0.004004,    0.005005,    0.006006,    0.007007,    0.008008,    0.009009,     0.01001,    0.011011,    0.012012,    0.013013,    0.014014,    0.015015,    0.016016,    0.017017,    0.018018,    0.019019,     0.02002,    0.021021,    0.022022,    0.023023,\n",
       "          0.024024,    0.025025,    0.026026,    0.027027,    0.028028,    0.029029,     0.03003,    0.031031,    0.032032,    0.033033,    0.034034,    0.035035,    0.036036,    0.037037,    0.038038,    0.039039,     0.04004,    0.041041,    0.042042,    0.043043,    0.044044,    0.045045,    0.046046,    0.047047,\n",
       "          0.048048,    0.049049,     0.05005,    0.051051,    0.052052,    0.053053,    0.054054,    0.055055,    0.056056,    0.057057,    0.058058,    0.059059,     0.06006,    0.061061,    0.062062,    0.063063,    0.064064,    0.065065,    0.066066,    0.067067,    0.068068,    0.069069,     0.07007,    0.071071,\n",
       "          0.072072,    0.073073,    0.074074,    0.075075,    0.076076,    0.077077,    0.078078,    0.079079,     0.08008,    0.081081,    0.082082,    0.083083,    0.084084,    0.085085,    0.086086,    0.087087,    0.088088,    0.089089,     0.09009,    0.091091,    0.092092,    0.093093,    0.094094,    0.095095,\n",
       "          0.096096,    0.097097,    0.098098,    0.099099,      0.1001,      0.1011,      0.1021,      0.1031,      0.1041,     0.10511,     0.10611,     0.10711,     0.10811,     0.10911,     0.11011,     0.11111,     0.11211,     0.11311,     0.11411,     0.11512,     0.11612,     0.11712,     0.11812,     0.11912,\n",
       "           0.12012,     0.12112,     0.12212,     0.12312,     0.12412,     0.12513,     0.12613,     0.12713,     0.12813,     0.12913,     0.13013,     0.13113,     0.13213,     0.13313,     0.13413,     0.13514,     0.13614,     0.13714,     0.13814,     0.13914,     0.14014,     0.14114,     0.14214,     0.14314,\n",
       "           0.14414,     0.14515,     0.14615,     0.14715,     0.14815,     0.14915,     0.15015,     0.15115,     0.15215,     0.15315,     0.15415,     0.15516,     0.15616,     0.15716,     0.15816,     0.15916,     0.16016,     0.16116,     0.16216,     0.16316,     0.16416,     0.16517,     0.16617,     0.16717,\n",
       "           0.16817,     0.16917,     0.17017,     0.17117,     0.17217,     0.17317,     0.17417,     0.17518,     0.17618,     0.17718,     0.17818,     0.17918,     0.18018,     0.18118,     0.18218,     0.18318,     0.18418,     0.18519,     0.18619,     0.18719,     0.18819,     0.18919,     0.19019,     0.19119,\n",
       "           0.19219,     0.19319,     0.19419,      0.1952,      0.1962,      0.1972,      0.1982,      0.1992,      0.2002,      0.2012,      0.2022,      0.2032,      0.2042,     0.20521,     0.20621,     0.20721,     0.20821,     0.20921,     0.21021,     0.21121,     0.21221,     0.21321,     0.21421,     0.21522,\n",
       "           0.21622,     0.21722,     0.21822,     0.21922,     0.22022,     0.22122,     0.22222,     0.22322,     0.22422,     0.22523,     0.22623,     0.22723,     0.22823,     0.22923,     0.23023,     0.23123,     0.23223,     0.23323,     0.23423,     0.23524,     0.23624,     0.23724,     0.23824,     0.23924,\n",
       "           0.24024,     0.24124,     0.24224,     0.24324,     0.24424,     0.24525,     0.24625,     0.24725,     0.24825,     0.24925,     0.25025,     0.25125,     0.25225,     0.25325,     0.25425,     0.25526,     0.25626,     0.25726,     0.25826,     0.25926,     0.26026,     0.26126,     0.26226,     0.26326,\n",
       "           0.26426,     0.26527,     0.26627,     0.26727,     0.26827,     0.26927,     0.27027,     0.27127,     0.27227,     0.27327,     0.27427,     0.27528,     0.27628,     0.27728,     0.27828,     0.27928,     0.28028,     0.28128,     0.28228,     0.28328,     0.28428,     0.28529,     0.28629,     0.28729,\n",
       "           0.28829,     0.28929,     0.29029,     0.29129,     0.29229,     0.29329,     0.29429,      0.2953,      0.2963,      0.2973,      0.2983,      0.2993,      0.3003,      0.3013,      0.3023,      0.3033,      0.3043,     0.30531,     0.30631,     0.30731,     0.30831,     0.30931,     0.31031,     0.31131,\n",
       "           0.31231,     0.31331,     0.31431,     0.31532,     0.31632,     0.31732,     0.31832,     0.31932,     0.32032,     0.32132,     0.32232,     0.32332,     0.32432,     0.32533,     0.32633,     0.32733,     0.32833,     0.32933,     0.33033,     0.33133,     0.33233,     0.33333,     0.33433,     0.33534,\n",
       "           0.33634,     0.33734,     0.33834,     0.33934,     0.34034,     0.34134,     0.34234,     0.34334,     0.34434,     0.34535,     0.34635,     0.34735,     0.34835,     0.34935,     0.35035,     0.35135,     0.35235,     0.35335,     0.35435,     0.35536,     0.35636,     0.35736,     0.35836,     0.35936,\n",
       "           0.36036,     0.36136,     0.36236,     0.36336,     0.36436,     0.36537,     0.36637,     0.36737,     0.36837,     0.36937,     0.37037,     0.37137,     0.37237,     0.37337,     0.37437,     0.37538,     0.37638,     0.37738,     0.37838,     0.37938,     0.38038,     0.38138,     0.38238,     0.38338,\n",
       "           0.38438,     0.38539,     0.38639,     0.38739,     0.38839,     0.38939,     0.39039,     0.39139,     0.39239,     0.39339,     0.39439,      0.3954,      0.3964,      0.3974,      0.3984,      0.3994,      0.4004,      0.4014,      0.4024,      0.4034,      0.4044,     0.40541,     0.40641,     0.40741,\n",
       "           0.40841,     0.40941,     0.41041,     0.41141,     0.41241,     0.41341,     0.41441,     0.41542,     0.41642,     0.41742,     0.41842,     0.41942,     0.42042,     0.42142,     0.42242,     0.42342,     0.42442,     0.42543,     0.42643,     0.42743,     0.42843,     0.42943,     0.43043,     0.43143,\n",
       "           0.43243,     0.43343,     0.43443,     0.43544,     0.43644,     0.43744,     0.43844,     0.43944,     0.44044,     0.44144,     0.44244,     0.44344,     0.44444,     0.44545,     0.44645,     0.44745,     0.44845,     0.44945,     0.45045,     0.45145,     0.45245,     0.45345,     0.45445,     0.45546,\n",
       "           0.45646,     0.45746,     0.45846,     0.45946,     0.46046,     0.46146,     0.46246,     0.46346,     0.46446,     0.46547,     0.46647,     0.46747,     0.46847,     0.46947,     0.47047,     0.47147,     0.47247,     0.47347,     0.47447,     0.47548,     0.47648,     0.47748,     0.47848,     0.47948,\n",
       "           0.48048,     0.48148,     0.48248,     0.48348,     0.48448,     0.48549,     0.48649,     0.48749,     0.48849,     0.48949,     0.49049,     0.49149,     0.49249,     0.49349,     0.49449,      0.4955,      0.4965,      0.4975,      0.4985,      0.4995,      0.5005,      0.5015,      0.5025,      0.5035,\n",
       "            0.5045,     0.50551,     0.50651,     0.50751,     0.50851,     0.50951,     0.51051,     0.51151,     0.51251,     0.51351,     0.51451,     0.51552,     0.51652,     0.51752,     0.51852,     0.51952,     0.52052,     0.52152,     0.52252,     0.52352,     0.52452,     0.52553,     0.52653,     0.52753,\n",
       "           0.52853,     0.52953,     0.53053,     0.53153,     0.53253,     0.53353,     0.53453,     0.53554,     0.53654,     0.53754,     0.53854,     0.53954,     0.54054,     0.54154,     0.54254,     0.54354,     0.54454,     0.54555,     0.54655,     0.54755,     0.54855,     0.54955,     0.55055,     0.55155,\n",
       "           0.55255,     0.55355,     0.55455,     0.55556,     0.55656,     0.55756,     0.55856,     0.55956,     0.56056,     0.56156,     0.56256,     0.56356,     0.56456,     0.56557,     0.56657,     0.56757,     0.56857,     0.56957,     0.57057,     0.57157,     0.57257,     0.57357,     0.57457,     0.57558,\n",
       "           0.57658,     0.57758,     0.57858,     0.57958,     0.58058,     0.58158,     0.58258,     0.58358,     0.58458,     0.58559,     0.58659,     0.58759,     0.58859,     0.58959,     0.59059,     0.59159,     0.59259,     0.59359,     0.59459,      0.5956,      0.5966,      0.5976,      0.5986,      0.5996,\n",
       "            0.6006,      0.6016,      0.6026,      0.6036,      0.6046,     0.60561,     0.60661,     0.60761,     0.60861,     0.60961,     0.61061,     0.61161,     0.61261,     0.61361,     0.61461,     0.61562,     0.61662,     0.61762,     0.61862,     0.61962,     0.62062,     0.62162,     0.62262,     0.62362,\n",
       "           0.62462,     0.62563,     0.62663,     0.62763,     0.62863,     0.62963,     0.63063,     0.63163,     0.63263,     0.63363,     0.63463,     0.63564,     0.63664,     0.63764,     0.63864,     0.63964,     0.64064,     0.64164,     0.64264,     0.64364,     0.64464,     0.64565,     0.64665,     0.64765,\n",
       "           0.64865,     0.64965,     0.65065,     0.65165,     0.65265,     0.65365,     0.65465,     0.65566,     0.65666,     0.65766,     0.65866,     0.65966,     0.66066,     0.66166,     0.66266,     0.66366,     0.66466,     0.66567,     0.66667,     0.66767,     0.66867,     0.66967,     0.67067,     0.67167,\n",
       "           0.67267,     0.67367,     0.67467,     0.67568,     0.67668,     0.67768,     0.67868,     0.67968,     0.68068,     0.68168,     0.68268,     0.68368,     0.68468,     0.68569,     0.68669,     0.68769,     0.68869,     0.68969,     0.69069,     0.69169,     0.69269,     0.69369,     0.69469,      0.6957,\n",
       "            0.6967,      0.6977,      0.6987,      0.6997,      0.7007,      0.7017,      0.7027,      0.7037,      0.7047,     0.70571,     0.70671,     0.70771,     0.70871,     0.70971,     0.71071,     0.71171,     0.71271,     0.71371,     0.71471,     0.71572,     0.71672,     0.71772,     0.71872,     0.71972,\n",
       "           0.72072,     0.72172,     0.72272,     0.72372,     0.72472,     0.72573,     0.72673,     0.72773,     0.72873,     0.72973,     0.73073,     0.73173,     0.73273,     0.73373,     0.73473,     0.73574,     0.73674,     0.73774,     0.73874,     0.73974,     0.74074,     0.74174,     0.74274,     0.74374,\n",
       "           0.74474,     0.74575,     0.74675,     0.74775,     0.74875,     0.74975,     0.75075,     0.75175,     0.75275,     0.75375,     0.75475,     0.75576,     0.75676,     0.75776,     0.75876,     0.75976,     0.76076,     0.76176,     0.76276,     0.76376,     0.76476,     0.76577,     0.76677,     0.76777,\n",
       "           0.76877,     0.76977,     0.77077,     0.77177,     0.77277,     0.77377,     0.77477,     0.77578,     0.77678,     0.77778,     0.77878,     0.77978,     0.78078,     0.78178,     0.78278,     0.78378,     0.78478,     0.78579,     0.78679,     0.78779,     0.78879,     0.78979,     0.79079,     0.79179,\n",
       "           0.79279,     0.79379,     0.79479,      0.7958,      0.7968,      0.7978,      0.7988,      0.7998,      0.8008,      0.8018,      0.8028,      0.8038,      0.8048,     0.80581,     0.80681,     0.80781,     0.80881,     0.80981,     0.81081,     0.81181,     0.81281,     0.81381,     0.81481,     0.81582,\n",
       "           0.81682,     0.81782,     0.81882,     0.81982,     0.82082,     0.82182,     0.82282,     0.82382,     0.82482,     0.82583,     0.82683,     0.82783,     0.82883,     0.82983,     0.83083,     0.83183,     0.83283,     0.83383,     0.83483,     0.83584,     0.83684,     0.83784,     0.83884,     0.83984,\n",
       "           0.84084,     0.84184,     0.84284,     0.84384,     0.84484,     0.84585,     0.84685,     0.84785,     0.84885,     0.84985,     0.85085,     0.85185,     0.85285,     0.85385,     0.85485,     0.85586,     0.85686,     0.85786,     0.85886,     0.85986,     0.86086,     0.86186,     0.86286,     0.86386,\n",
       "           0.86486,     0.86587,     0.86687,     0.86787,     0.86887,     0.86987,     0.87087,     0.87187,     0.87287,     0.87387,     0.87487,     0.87588,     0.87688,     0.87788,     0.87888,     0.87988,     0.88088,     0.88188,     0.88288,     0.88388,     0.88488,     0.88589,     0.88689,     0.88789,\n",
       "           0.88889,     0.88989,     0.89089,     0.89189,     0.89289,     0.89389,     0.89489,      0.8959,      0.8969,      0.8979,      0.8989,      0.8999,      0.9009,      0.9019,      0.9029,      0.9039,      0.9049,     0.90591,     0.90691,     0.90791,     0.90891,     0.90991,     0.91091,     0.91191,\n",
       "           0.91291,     0.91391,     0.91491,     0.91592,     0.91692,     0.91792,     0.91892,     0.91992,     0.92092,     0.92192,     0.92292,     0.92392,     0.92492,     0.92593,     0.92693,     0.92793,     0.92893,     0.92993,     0.93093,     0.93193,     0.93293,     0.93393,     0.93493,     0.93594,\n",
       "           0.93694,     0.93794,     0.93894,     0.93994,     0.94094,     0.94194,     0.94294,     0.94394,     0.94494,     0.94595,     0.94695,     0.94795,     0.94895,     0.94995,     0.95095,     0.95195,     0.95295,     0.95395,     0.95495,     0.95596,     0.95696,     0.95796,     0.95896,     0.95996,\n",
       "           0.96096,     0.96196,     0.96296,     0.96396,     0.96496,     0.96597,     0.96697,     0.96797,     0.96897,     0.96997,     0.97097,     0.97197,     0.97297,     0.97397,     0.97497,     0.97598,     0.97698,     0.97798,     0.97898,     0.97998,     0.98098,     0.98198,     0.98298,     0.98398,\n",
       "           0.98498,     0.98599,     0.98699,     0.98799,     0.98899,     0.98999,     0.99099,     0.99199,     0.99299,     0.99399,     0.99499,       0.996,       0.997,       0.998,       0.999,           1]), array([[          1,           1,           1, ...,           0,           0,           0],\n",
       "       [          1,           1,           1, ...,           0,           0,           0],\n",
       "       [    0.93333,     0.93333,     0.93333, ...,           0,           0,           0],\n",
       "       [    0.95935,     0.95935,     0.95122, ...,           0,           0,           0]]), 'Confidence', 'Recall']]\n",
       "fitness: 0.3845311505447825\n",
       "keys: ['metrics/precision(B)', 'metrics/recall(B)', 'metrics/mAP50(B)', 'metrics/mAP50-95(B)']\n",
       "maps: array([    0.22909,     0.53468,     0.36796,     0.24885])\n",
       "names: {0: 'bubble', 1: 'dent', 2: 'foreignsub', 3: 'torn'}\n",
       "plot: True\n",
       "results_dict: {'metrics/precision(B)': 0.7071140441282293, 'metrics/recall(B)': 0.710874117196365, 'metrics/mAP50(B)': 0.7390132373878435, 'metrics/mAP50-95(B)': 0.3451442520066646, 'fitness': 0.3845311505447825}\n",
       "save_dir: PosixPath('runs/detect/train')\n",
       "speed: {'preprocess': 0.6092725128963076, 'inference': 3.323416257726735, 'loss': 0.001124266920418575, 'postprocess': 5.408647759207364}\n",
       "task: 'detect'"
      ]
     },
     "execution_count": 1,
     "metadata": {},
     "output_type": "execute_result"
    }
   ],
   "source": [
    "from ultralytics import YOLO\n",
    "\n",
    "# YOLO 모델 로드\n",
    "model = YOLO('yolov8n.pt')  # YOLOv8 Nano 모델 사용\n",
    "\n",
    "# 데이터셋 경로\n",
    "dataset_yaml = '/home/ec2-user/SageMaker/data/yolov8detections/data.yaml'\n",
    "\n",
    "# 모델 훈련\n",
    "model.train(data=dataset_yaml,  # YAML 경로\n",
    "            epochs=50,          # 반복 횟수\n",
    "            batch=16,           # 배치 크기\n",
    "            imgsz=640)          # 이미지 크기\n"
   ]
  },
  {
   "cell_type": "code",
   "execution_count": 2,
   "id": "df1f3d1d",
   "metadata": {},
   "outputs": [
    {
     "name": "stdout",
     "output_type": "stream",
     "text": [
      "\n",
      "image 1/127 /home/ec2-user/SageMaker/data/yolov8detections/test/images/1027_f_bmp.rf.2d9bd9333d148142ed69d8ab25529e9f.jpg: 640x640 1 dent, 14.8ms\n",
      "image 2/127 /home/ec2-user/SageMaker/data/yolov8detections/test/images/1028_rotated180_86_bmp.rf.f7ff82b27aa6d63cf3944eb3665fa471.jpg: 640x640 1 dent, 16.4ms\n",
      "image 3/127 /home/ec2-user/SageMaker/data/yolov8detections/test/images/1116_rotated90_15_bmp.rf.b4fa3de48f65a6cbe592dc55b4772b2c.jpg: 640x640 1 dent, 23.9ms\n",
      "image 4/127 /home/ec2-user/SageMaker/data/yolov8detections/test/images/1500_bmp.rf.51986c61375655a5111bc39723a08bec.jpg: 640x640 1 dent, 24.7ms\n",
      "image 5/127 /home/ec2-user/SageMaker/data/yolov8detections/test/images/1804_bmp.rf.c15eaeb4fd8af7a62a1e6d216d3ad5ae.jpg: 640x640 1 dent, 13.8ms\n",
      "image 6/127 /home/ec2-user/SageMaker/data/yolov8detections/test/images/1811_r_bmp.rf.7a618f28c6de6abdb32d5a7f30763495.jpg: 640x640 1 dent, 1 torn, 23.7ms\n",
      "image 7/127 /home/ec2-user/SageMaker/data/yolov8detections/test/images/2659_rotated180_1_bmp.rf.1888248d81b6da509ec3521389bf3f22.jpg: 640x640 2 dents, 22.7ms\n",
      "image 8/127 /home/ec2-user/SageMaker/data/yolov8detections/test/images/2667_gn_bmp.rf.5071b86f3cda7dba17010afb217158ee.jpg: 640x640 1 dent, 1 torn, 26.7ms\n",
      "image 9/127 /home/ec2-user/SageMaker/data/yolov8detections/test/images/4447_flipped_ud_8_bmp.rf.3c80abf1a12c83483048d37ef9196f3a.jpg: 640x640 1 dent, 23.5ms\n",
      "image 10/127 /home/ec2-user/SageMaker/data/yolov8detections/test/images/4876_bmp.rf.ea31e3f688f73d6246b770ee9d63873d.jpg: 640x640 1 bubble, 23.0ms\n",
      "image 11/127 /home/ec2-user/SageMaker/data/yolov8detections/test/images/4876_gb_bmp.rf.f5dc22c376f1d11aa913979d76999bd6.jpg: 640x640 1 bubble, 23.5ms\n",
      "image 12/127 /home/ec2-user/SageMaker/data/yolov8detections/test/images/4877_bmp.rf.2ebddf710ca8a212b6ef56c738741778.jpg: 640x640 1 bubble, 13.6ms\n",
      "image 13/127 /home/ec2-user/SageMaker/data/yolov8detections/test/images/4878_bmp.rf.aae96d413c9147048b888bd15d8830f9.jpg: 640x640 1 bubble, 20.5ms\n",
      "image 14/127 /home/ec2-user/SageMaker/data/yolov8detections/test/images/4878_gbrfgn_bmp.rf.92d920198b80ee2499b58894bf1a0b6b.jpg: 640x640 1 bubble, 29.9ms\n",
      "image 15/127 /home/ec2-user/SageMaker/data/yolov8detections/test/images/4879_bmp.rf.117d708216d63257cc85cb720b584cd1.jpg: 640x640 1 bubble, 13.0ms\n",
      "image 16/127 /home/ec2-user/SageMaker/data/yolov8detections/test/images/4879_fgb_bmp.rf.ad5ce208aabf79e5b3d3c1bcb36e04e3.jpg: 640x640 1 bubble, 17.7ms\n",
      "image 17/127 /home/ec2-user/SageMaker/data/yolov8detections/test/images/4879_frgbgn_bmp.rf.d41322ba3a4c584b5e95042abe3a9381.jpg: 640x640 1 bubble, 15.4ms\n",
      "image 18/127 /home/ec2-user/SageMaker/data/yolov8detections/test/images/4879_gb_bmp.rf.310cdd9626ea3b942a940aed5e8e5e4c.jpg: 640x640 1 bubble, 29.3ms\n",
      "image 19/127 /home/ec2-user/SageMaker/data/yolov8detections/test/images/4879_gbfgnr_bmp.rf.8d632428e62cf7af0a9b34acaa07236f.jpg: 640x640 1 bubble, 15.7ms\n",
      "image 20/127 /home/ec2-user/SageMaker/data/yolov8detections/test/images/4879_gbgn_bmp.rf.5292928cce70c692083c44d2767e2f66.jpg: 640x640 1 bubble, 30.4ms\n",
      "image 21/127 /home/ec2-user/SageMaker/data/yolov8detections/test/images/4879_gbgnrf_bmp.rf.870558e9cd28c0c91a48edc9e4380dd2.jpg: 640x640 1 bubble, 11.9ms\n",
      "image 22/127 /home/ec2-user/SageMaker/data/yolov8detections/test/images/4879_gbr_bmp.rf.ae6524151fc42d917de41e960c264063.jpg: 640x640 1 bubble, 33.1ms\n",
      "image 23/127 /home/ec2-user/SageMaker/data/yolov8detections/test/images/4879_gnf_bmp.rf.9efcb8eea573aba5292083409fb16aae.jpg: 640x640 1 bubble, 15.0ms\n",
      "image 24/127 /home/ec2-user/SageMaker/data/yolov8detections/test/images/4879_gnfr_bmp.rf.38299368eaa79a5d06d2d017bb465bd8.jpg: 640x640 1 bubble, 16.5ms\n",
      "image 25/127 /home/ec2-user/SageMaker/data/yolov8detections/test/images/4879_gngbf_bmp.rf.5753e83dbc9cf7ef5d05d5f1f03f877a.jpg: 640x640 1 bubble, 22.0ms\n",
      "image 26/127 /home/ec2-user/SageMaker/data/yolov8detections/test/images/4879_gngbfr_bmp.rf.9af2b729cf22f87482789537d905a488.jpg: 640x640 1 bubble, 34.1ms\n",
      "image 27/127 /home/ec2-user/SageMaker/data/yolov8detections/test/images/4879_gnrf_bmp.rf.87fa19d2ec0a6fac7ed495e19229611f.jpg: 640x640 1 bubble, 10.7ms\n",
      "image 28/127 /home/ec2-user/SageMaker/data/yolov8detections/test/images/4879_gnrgb_bmp.rf.8e5b9ea45a7cbcd1bb27ee79e0f04cfe.jpg: 640x640 1 bubble, 12.0ms\n",
      "image 29/127 /home/ec2-user/SageMaker/data/yolov8detections/test/images/4879_gnrgbf_bmp.rf.af3740cf589bf139625846f5b60c9e37.jpg: 640x640 1 bubble, 15.6ms\n",
      "image 30/127 /home/ec2-user/SageMaker/data/yolov8detections/test/images/4879_rf_bmp.rf.56d56c28cd0ff6ee308409b359561da4.jpg: 640x640 1 bubble, 22.6ms\n",
      "image 31/127 /home/ec2-user/SageMaker/data/yolov8detections/test/images/4879_rfgb_bmp.rf.a340d215de2b454f37df62ec9a1fcce2.jpg: 640x640 1 bubble, 13.8ms\n",
      "image 32/127 /home/ec2-user/SageMaker/data/yolov8detections/test/images/4879_rfgbgn_bmp.rf.ac841b375650242c6f5392476f76b2e2.jpg: 640x640 1 bubble, 13.3ms\n",
      "image 33/127 /home/ec2-user/SageMaker/data/yolov8detections/test/images/4879_rfgngb_bmp.rf.81c56277623ebdf6d19ce66400ba6e96.jpg: 640x640 1 bubble, 15.2ms\n",
      "image 34/127 /home/ec2-user/SageMaker/data/yolov8detections/test/images/4879_rgb_bmp.rf.0c311f20de3143fb48f1541d91ba94f5.jpg: 640x640 1 bubble, 13.4ms\n",
      "image 35/127 /home/ec2-user/SageMaker/data/yolov8detections/test/images/4879_rgbfgn_bmp.rf.3f9baafcbabd9eebdfd1a2b60eeddd8f.jpg: 640x640 1 bubble, 13.8ms\n",
      "image 36/127 /home/ec2-user/SageMaker/data/yolov8detections/test/images/4880_bmp.rf.c4958e9e4ccd2ae739fe6c37c320b33d.jpg: 640x640 1 bubble, 31.4ms\n",
      "image 37/127 /home/ec2-user/SageMaker/data/yolov8detections/test/images/4880_flipped_lr_14_bmp.rf.5195bae43aa36c932ce67eefc2438f4b.jpg: 640x640 1 bubble, 13.6ms\n",
      "image 38/127 /home/ec2-user/SageMaker/data/yolov8detections/test/images/4880_flipped_ud_13_bmp.rf.0e749bcabd8f83c980b6b683ef19661a.jpg: 640x640 1 bubble, 12.4ms\n",
      "image 39/127 /home/ec2-user/SageMaker/data/yolov8detections/test/images/4880_rotated180_11_bmp.rf.edf07f3e0509ebc584bdf68b212b595a.jpg: 640x640 1 bubble, 11.6ms\n",
      "image 40/127 /home/ec2-user/SageMaker/data/yolov8detections/test/images/4880_rotated270_12_bmp.rf.ef8e4786e73eafed0f9edee2abc2de4a.jpg: 640x640 1 bubble, 12.7ms\n",
      "image 41/127 /home/ec2-user/SageMaker/data/yolov8detections/test/images/4880_rotated90_10_bmp.rf.b75465431e1d6af6da229d46bcce1961.jpg: 640x640 1 bubble, 12.1ms\n",
      "image 42/127 /home/ec2-user/SageMaker/data/yolov8detections/test/images/4881_bmp.rf.a54bda96803b0b5468486ca7445e3146.jpg: 640x640 1 bubble, 1 torn, 12.0ms\n",
      "image 43/127 /home/ec2-user/SageMaker/data/yolov8detections/test/images/4883_bmp.rf.9de662b63e0115d3ab75e998597ead59.jpg: 640x640 2 bubbles, 12.2ms\n",
      "image 44/127 /home/ec2-user/SageMaker/data/yolov8detections/test/images/4883_f_bmp.rf.5fd98bf3da3e2346e41886c80f307602.jpg: 640x640 1 bubble, 10.7ms\n",
      "image 45/127 /home/ec2-user/SageMaker/data/yolov8detections/test/images/4885_bmp.rf.b2fef3918587398a1b6a7c4d5b60238c.jpg: 640x640 1 bubble, 11.9ms\n",
      "image 46/127 /home/ec2-user/SageMaker/data/yolov8detections/test/images/4887_bmp.rf.538827ae47ed9d814e957bd6795fe62a.jpg: 640x640 1 bubble, 29.2ms\n",
      "image 47/127 /home/ec2-user/SageMaker/data/yolov8detections/test/images/4887_flipped_lr_44_bmp.rf.734cb38a3b439d81eebe63be8ce81d61.jpg: 640x640 1 bubble, 23.6ms\n",
      "image 48/127 /home/ec2-user/SageMaker/data/yolov8detections/test/images/4887_flipped_ud_43_bmp.rf.2230b7cac8790f00c93c14d3a2244c8f.jpg: 640x640 1 bubble, 11.2ms\n",
      "image 49/127 /home/ec2-user/SageMaker/data/yolov8detections/test/images/4887_rotated180_41_bmp.rf.88f6c5ae47578f2285c99064d94201f3.jpg: 640x640 1 bubble, 10.5ms\n",
      "image 50/127 /home/ec2-user/SageMaker/data/yolov8detections/test/images/4887_rotated270_42_bmp.rf.93f61a9864e838a74590bdf3a1b28b6c.jpg: 640x640 1 bubble, 11.5ms\n",
      "image 51/127 /home/ec2-user/SageMaker/data/yolov8detections/test/images/4887_rotated90_40_bmp.rf.a84238679478de0768d74c761b8a90c4.jpg: 640x640 1 bubble, 15.7ms\n",
      "image 52/127 /home/ec2-user/SageMaker/data/yolov8detections/test/images/4888_bmp.rf.fdfdced4ae5263c919ce464434b8e4f8.jpg: 640x640 2 bubbles, 11.3ms\n",
      "image 53/127 /home/ec2-user/SageMaker/data/yolov8detections/test/images/4888_fgnrgb_bmp.rf.b151f97cc506853e25b78e7c296738a8.jpg: 640x640 1 bubble, 11.6ms\n",
      "image 54/127 /home/ec2-user/SageMaker/data/yolov8detections/test/images/4889_bmp.rf.6b6318d2147f51765d5cd5491e4224e2.jpg: 640x640 1 bubble, 1 torn, 12.9ms\n",
      "image 55/127 /home/ec2-user/SageMaker/data/yolov8detections/test/images/4892_bmp.rf.496122c2d4d68d25b9a9321634313d4b.jpg: 640x640 2 bubbles, 13.2ms\n",
      "image 56/127 /home/ec2-user/SageMaker/data/yolov8detections/test/images/4893_bmp.rf.d812ab0830a42a3974e479d962fff4e2.jpg: 640x640 1 bubble, 22.1ms\n",
      "image 57/127 /home/ec2-user/SageMaker/data/yolov8detections/test/images/4894_bmp.rf.27c6762882ef7d5720fca3d23f872790.jpg: 640x640 1 bubble, 13.6ms\n",
      "image 58/127 /home/ec2-user/SageMaker/data/yolov8detections/test/images/4895_bmp.rf.d0ab454b7e1df359a2c11e1bfb077867.jpg: 640x640 1 bubble, 26.6ms\n",
      "image 59/127 /home/ec2-user/SageMaker/data/yolov8detections/test/images/4896_bmp.rf.c0f16d865aebe21b56129ea5f5115af6.jpg: 640x640 1 bubble, 10.8ms\n",
      "image 60/127 /home/ec2-user/SageMaker/data/yolov8detections/test/images/4897_bmp.rf.bc84500dd96396026089e5bdc2493bf2.jpg: 640x640 1 bubble, 12.0ms\n",
      "image 61/127 /home/ec2-user/SageMaker/data/yolov8detections/test/images/4897_flipped_lr_9_bmp.rf.5fe82c306ca9b0d7cf5bbcce99a23dd0.jpg: 640x640 1 bubble, 11.2ms\n",
      "image 62/127 /home/ec2-user/SageMaker/data/yolov8detections/test/images/4897_flipped_ud_8_bmp.rf.cb1c56bbf66404e373287ad0a6fc4302.jpg: 640x640 1 bubble, 17.0ms\n",
      "image 63/127 /home/ec2-user/SageMaker/data/yolov8detections/test/images/4897_rotated180_6_bmp.rf.ae15902b67d08a3ab1601e8a981cd212.jpg: 640x640 1 bubble, 12.5ms\n",
      "image 64/127 /home/ec2-user/SageMaker/data/yolov8detections/test/images/4897_rotated270_7_bmp.rf.88cb977c3fdcaa7eb9f4b993d3194aae.jpg: 640x640 1 bubble, 12.6ms\n",
      "image 65/127 /home/ec2-user/SageMaker/data/yolov8detections/test/images/4897_rotated90_5_bmp.rf.dbbb29853ae6f03a24698ffc0c2822b6.jpg: 640x640 1 bubble, 12.8ms\n",
      "image 66/127 /home/ec2-user/SageMaker/data/yolov8detections/test/images/4898_bmp.rf.756d2f08736bb9ef7a5ef7304e5c5292.jpg: 640x640 1 bubble, 10.8ms\n",
      "image 67/127 /home/ec2-user/SageMaker/data/yolov8detections/test/images/4898_rgnf_bmp.rf.29b808a1d9e541a0716e087032c67a4d.jpg: 640x640 1 bubble, 11.5ms\n",
      "image 68/127 /home/ec2-user/SageMaker/data/yolov8detections/test/images/4899_bmp.rf.8e216f5cee7b620884fa746dc01d4765.jpg: 640x640 1 torn, 11.3ms\n",
      "image 69/127 /home/ec2-user/SageMaker/data/yolov8detections/test/images/4899_flipped_lr_4_bmp.rf.3a977cef365085cff835803b2309381f.jpg: 640x640 1 torn, 10.6ms\n",
      "image 70/127 /home/ec2-user/SageMaker/data/yolov8detections/test/images/4899_flipped_ud_3_bmp.rf.9b612dbf90c62d9c05a15929fed226f6.jpg: 640x640 1 torn, 11.0ms\n",
      "image 71/127 /home/ec2-user/SageMaker/data/yolov8detections/test/images/4899_rotated180_1_bmp.rf.bb5c84f5266a291795231d6c4e3597f6.jpg: 640x640 1 torn, 15.6ms\n",
      "image 72/127 /home/ec2-user/SageMaker/data/yolov8detections/test/images/4899_rotated270_2_bmp.rf.8f41b65d5439134ee0dab7bf317b0243.jpg: 640x640 1 torn, 22.2ms\n",
      "image 73/127 /home/ec2-user/SageMaker/data/yolov8detections/test/images/4899_rotated90_0_bmp.rf.7c9e8ca0525f10f0d3b280b56388e216.jpg: 640x640 1 torn, 13.0ms\n",
      "image 74/127 /home/ec2-user/SageMaker/data/yolov8detections/test/images/4903_bmp.rf.eab21fdd770ba3e13df6dbdf4f826488.jpg: 640x640 1 bubble, 12.9ms\n",
      "image 75/127 /home/ec2-user/SageMaker/data/yolov8detections/test/images/4903_f_bmp.rf.f2713bf674103ba77311067c77af1ccb.jpg: 640x640 1 bubble, 11.9ms\n",
      "image 76/127 /home/ec2-user/SageMaker/data/yolov8detections/test/images/4904_bmp.rf.fe6aa1f8459a6ce1c87173935c3d40ca.jpg: 640x640 1 bubble, 15.4ms\n",
      "image 77/127 /home/ec2-user/SageMaker/data/yolov8detections/test/images/4904_fgbrgn_bmp.rf.2c8c144e1c6e9022a4b8ae99d734b711.jpg: 640x640 1 bubble, 23.3ms\n",
      "image 78/127 /home/ec2-user/SageMaker/data/yolov8detections/test/images/4905_bmp.rf.6c1350de90fb71364348ed7ceb58fd7b.jpg: 640x640 1 bubble, 24.9ms\n",
      "image 79/127 /home/ec2-user/SageMaker/data/yolov8detections/test/images/4906_bmp.rf.c4a358def44fb0c55f046e5ccec4dfc4.jpg: 640x640 1 bubble, 13.1ms\n",
      "image 80/127 /home/ec2-user/SageMaker/data/yolov8detections/test/images/4906_rotated270_32_bmp.rf.0cfc68da3b04999030dde0bf00a6e244.jpg: 640x640 1 bubble, 23.1ms\n",
      "image 81/127 /home/ec2-user/SageMaker/data/yolov8detections/test/images/4907_bmp.rf.7af0a89f1287035ba4671fb635d889e5.jpg: 640x640 1 bubble, 11.1ms\n",
      "image 82/127 /home/ec2-user/SageMaker/data/yolov8detections/test/images/4910_bmp.rf.a51decf80a7cb3c029e92da69821b841.jpg: 640x640 1 bubble, 14.9ms\n",
      "image 83/127 /home/ec2-user/SageMaker/data/yolov8detections/test/images/4910_rgb_bmp.rf.a98b86ab59dff5dd805a233438603e40.jpg: 640x640 1 bubble, 10.8ms\n",
      "image 84/127 /home/ec2-user/SageMaker/data/yolov8detections/test/images/4911_bmp.rf.b4a93800bcf6b250e4b9881f1358c8d5.jpg: 640x640 1 bubble, 25.0ms\n",
      "image 85/127 /home/ec2-user/SageMaker/data/yolov8detections/test/images/4912_bmp.rf.a43b4c954d82b084e157d54385ebfad9.jpg: 640x640 1 bubble, 16.7ms\n",
      "image 86/127 /home/ec2-user/SageMaker/data/yolov8detections/test/images/4912_gbf_bmp.rf.09447d271841193d850d93a099358c66.jpg: 640x640 1 bubble, 23.3ms\n",
      "image 87/127 /home/ec2-user/SageMaker/data/yolov8detections/test/images/4913_bmp.rf.b00246576a66c0fafd46dfed593c9406.jpg: 640x640 1 bubble, 18.5ms\n",
      "image 88/127 /home/ec2-user/SageMaker/data/yolov8detections/test/images/4915_bmp.rf.e776f7e738a9a39697960955e60959a7.jpg: 640x640 1 bubble, 11.6ms\n",
      "image 89/127 /home/ec2-user/SageMaker/data/yolov8detections/test/images/4918_bmp.rf.6bc235ac0f319836e315d1ccdb956d3b.jpg: 640x640 1 bubble, 12.8ms\n",
      "image 90/127 /home/ec2-user/SageMaker/data/yolov8detections/test/images/4919_bmp.rf.bf0d9cb7e4e56c35e4274eeeea3fd024.jpg: 640x640 1 bubble, 10.8ms\n",
      "image 91/127 /home/ec2-user/SageMaker/data/yolov8detections/test/images/4920_bmp.rf.c6786ebc6240275851a832ea9b83a033.jpg: 640x640 1 bubble, 10.5ms\n",
      "image 92/127 /home/ec2-user/SageMaker/data/yolov8detections/test/images/4921_bmp.rf.bbf911d8ca9baae47831a5a1768bc96b.jpg: 640x640 1 bubble, 26.9ms\n",
      "image 93/127 /home/ec2-user/SageMaker/data/yolov8detections/test/images/4922_bmp.rf.74a29707059b97f9f6c8cc00ed2f3aa4.jpg: 640x640 1 bubble, 36.0ms\n",
      "image 94/127 /home/ec2-user/SageMaker/data/yolov8detections/test/images/4923_bmp.rf.b68fd36757aefe9238216f84b954786d.jpg: 640x640 1 bubble, 13.2ms\n",
      "image 95/127 /home/ec2-user/SageMaker/data/yolov8detections/test/images/4925_bmp.rf.d26d44d4957878a4b1d805c08749fb6e.jpg: 640x640 1 bubble, 26.3ms\n",
      "image 96/127 /home/ec2-user/SageMaker/data/yolov8detections/test/images/4926_bmp.rf.e17e9aaf4277c27e6c899e6ac19f5f28.jpg: 640x640 1 bubble, 23.1ms\n",
      "image 97/127 /home/ec2-user/SageMaker/data/yolov8detections/test/images/4926_fgn_bmp.rf.137e95d38032a91ce6a2781f33b1a05b.jpg: 640x640 1 bubble, 13.5ms\n",
      "image 98/127 /home/ec2-user/SageMaker/data/yolov8detections/test/images/4927_bmp.rf.2794b70cf959b702689f07b71949c78d.jpg: 640x640 1 bubble, 13.3ms\n",
      "image 99/127 /home/ec2-user/SageMaker/data/yolov8detections/test/images/4928_bmp.rf.69dcead24031be959bd39ac2d3aa3002.jpg: 640x640 1 bubble, 15.0ms\n",
      "image 100/127 /home/ec2-user/SageMaker/data/yolov8detections/test/images/4929_bmp.rf.69f8e18383f16414672a460f0e904e2d.jpg: 640x640 1 bubble, 12.8ms\n",
      "image 101/127 /home/ec2-user/SageMaker/data/yolov8detections/test/images/4930_bmp.rf.a03c2dfd22777a7c47384680b37609ab.jpg: 640x640 1 bubble, 20.3ms\n",
      "image 102/127 /home/ec2-user/SageMaker/data/yolov8detections/test/images/4931_bmp.rf.fd52aed77dc48d2d287eaf28004986a5.jpg: 640x640 1 torn, 19.5ms\n",
      "image 103/127 /home/ec2-user/SageMaker/data/yolov8detections/test/images/4931_gngbr_bmp.rf.7769c9169243cfae357fdb77e48743bb.jpg: 640x640 1 torn, 14.9ms\n",
      "image 104/127 /home/ec2-user/SageMaker/data/yolov8detections/test/images/4936_bmp.rf.b8ba39679d91c27b114ac6b841aa9efe.jpg: 640x640 1 bubble, 13.0ms\n",
      "image 105/127 /home/ec2-user/SageMaker/data/yolov8detections/test/images/4937_bmp.rf.76787ed2a7b1af8a17595bdf82233efb.jpg: 640x640 1 bubble, 14.8ms\n",
      "image 106/127 /home/ec2-user/SageMaker/data/yolov8detections/test/images/4938_bmp.rf.52b1f832a59aa93ac0fcd571a0aa48f2.jpg: 640x640 1 bubble, 13.4ms\n",
      "image 107/127 /home/ec2-user/SageMaker/data/yolov8detections/test/images/4939_bmp.rf.e1f53d91c85d46d8c0d463f79b10052d.jpg: 640x640 2 torns, 11.3ms\n",
      "image 108/127 /home/ec2-user/SageMaker/data/yolov8detections/test/images/4945_bmp.rf.572bb3e928b300b28ce1f34ab8cc9d32.jpg: 640x640 1 bubble, 11.6ms\n",
      "image 109/127 /home/ec2-user/SageMaker/data/yolov8detections/test/images/4946_bmp.rf.effee85a9be6af75239eb5f224ccf491.jpg: 640x640 1 bubble, 18.9ms\n",
      "image 110/127 /home/ec2-user/SageMaker/data/yolov8detections/test/images/4946_gnfgb_bmp.rf.0a257a69383c89e8915844eb5c12aa1b.jpg: 640x640 1 bubble, 22.4ms\n",
      "image 111/127 /home/ec2-user/SageMaker/data/yolov8detections/test/images/4946_rf_bmp.rf.6132d2cf427d0211ee8be11c755566f1.jpg: 640x640 1 bubble, 36.4ms\n",
      "image 112/127 /home/ec2-user/SageMaker/data/yolov8detections/test/images/4947_bmp.rf.71acd162f10946e7686228389cb9f2e0.jpg: 640x640 (no detections), 15.0ms\n",
      "image 113/127 /home/ec2-user/SageMaker/data/yolov8detections/test/images/4948_bmp.rf.a610446ee32756a3e34bbe94aeda0d14.jpg: 640x640 (no detections), 10.2ms\n",
      "image 114/127 /home/ec2-user/SageMaker/data/yolov8detections/test/images/4954_gbrgnf_bmp.rf.5539e9f0292538fa8295c8e35753c824.jpg: 640x640 (no detections), 25.4ms\n",
      "image 115/127 /home/ec2-user/SageMaker/data/yolov8detections/test/images/4976_bmp.rf.3e85167767bccaede5482155fa2b7360.jpg: 640x640 1 bubble, 12.0ms\n",
      "image 116/127 /home/ec2-user/SageMaker/data/yolov8detections/test/images/4987_rgbfgn_bmp.rf.268b91496288198fb63b01e4d9cef0c9.jpg: 640x640 1 torn, 10.2ms\n",
      "image 117/127 /home/ec2-user/SageMaker/data/yolov8detections/test/images/5194_frgn_bmp.rf.a43d467d62ebea907a3888f3c416e780.jpg: 640x640 3 torns, 13.7ms\n",
      "image 118/127 /home/ec2-user/SageMaker/data/yolov8detections/test/images/5194_gbrgnf_bmp.rf.a765100bc330b0a9d4ba3e3f98f57be7.jpg: 640x640 4 torns, 12.2ms\n",
      "image 119/127 /home/ec2-user/SageMaker/data/yolov8detections/test/images/5194_r_bmp.rf.789235b42782acd9a6447e67fe18148a.jpg: 640x640 3 torns, 15.0ms\n",
      "image 120/127 /home/ec2-user/SageMaker/data/yolov8detections/test/images/5970_bmp.rf.6729e848346990176ce2a6cc4b033a6a.jpg: 640x640 (no detections), 12.9ms\n",
      "image 121/127 /home/ec2-user/SageMaker/data/yolov8detections/test/images/5970_f_bmp.rf.571af3f41c93c2e0091acda64b217e80.jpg: 640x640 (no detections), 10.8ms\n",
      "image 122/127 /home/ec2-user/SageMaker/data/yolov8detections/test/images/5970_fr_bmp.rf.f27cd5ef9a57b712741c756bd5aa6159.jpg: 640x640 1 foreignsub, 12.6ms\n",
      "image 123/127 /home/ec2-user/SageMaker/data/yolov8detections/test/images/5970_gbfrgn_bmp.rf.694019a7d8eb8d4435b25d3b67278441.jpg: 640x640 1 foreignsub, 23.0ms\n",
      "image 124/127 /home/ec2-user/SageMaker/data/yolov8detections/test/images/5970_gngbr_bmp.rf.dbae60fc1ab288edc4417bdecef1cbaf.jpg: 640x640 1 foreignsub, 26.7ms\n",
      "image 125/127 /home/ec2-user/SageMaker/data/yolov8detections/test/images/5970_gnrgb_bmp.rf.6a5aed744523266973afdbfddeae9459.jpg: 640x640 2 foreignsubs, 12.8ms\n",
      "image 126/127 /home/ec2-user/SageMaker/data/yolov8detections/test/images/5970_r_bmp.rf.032c0d3ec741d3def904e3a8723cf025.jpg: 640x640 1 foreignsub, 31.0ms\n",
      "image 127/127 /home/ec2-user/SageMaker/data/yolov8detections/test/images/5970_rf_bmp.rf.64499f8004b4d0ec862a997429490217.jpg: 640x640 1 foreignsub, 22.2ms\n",
      "Speed: 4.5ms preprocess, 17.1ms inference, 8.0ms postprocess per image at shape (1, 3, 640, 640)\n",
      "Results saved to \u001b[1mruns/detect/train2\u001b[0m\n",
      "122 labels saved to runs/detect/train2/labels\n"
     ]
    }
   ],
   "source": [
    "# YOLOv8 추론 및 결과 저장\n",
    "results = model.predict(\n",
    "    source='/home/ec2-user/SageMaker/data/yolov8detections/test/images',\n",
    "    conf=0.3,  # Confidence threshold\n",
    "    save=True,  # 이미지 결과 저장\n",
    "    save_txt=True  # .txt 결과 저장\n",
    ")\n"
   ]
  },
  {
   "cell_type": "code",
   "execution_count": null,
   "id": "472b53d9",
   "metadata": {},
   "outputs": [],
   "source": []
  },
  {
   "cell_type": "code",
   "execution_count": 13,
   "id": "d426a44a",
   "metadata": {},
   "outputs": [],
   "source": [
    "import numpy as np\n",
    "\n",
    "# NMS 함수 정의\n",
    "def apply_nms(predictions, iou_threshold=0.5, score_threshold=0.3):\n",
    "    \"\"\"\n",
    "    Apply Non-Maximum Suppression (NMS) to YOLO predictions.\n",
    "    Args:\n",
    "        predictions: List of [x1, y1, x2, y2, score, class_id] per detection\n",
    "        iou_threshold: IoU threshold for NMS\n",
    "        score_threshold: Score threshold to filter weak detections\n",
    "    Returns:\n",
    "        nms_results: Filtered detections after applying NMS\n",
    "    \"\"\"\n",
    "    if len(predictions) == 0:\n",
    "        return []\n",
    "\n",
    "    predictions = np.array(predictions)\n",
    "    x1, y1, x2, y2, scores, class_ids = (\n",
    "        predictions[:, 0],\n",
    "        predictions[:, 1],\n",
    "        predictions[:, 2],\n",
    "        predictions[:, 3],\n",
    "        predictions[:, 4],\n",
    "        predictions[:, 5],\n",
    "    )\n",
    "\n",
    "    # Sort by scores in descending order\n",
    "    indices = scores.argsort()[::-1]\n",
    "    selected_boxes = []\n",
    "\n",
    "    while len(indices) > 0:\n",
    "        current = indices[0]\n",
    "        selected_boxes.append(predictions[current])\n",
    "\n",
    "        # Calculate IoU between the current box and remaining boxes\n",
    "        xx1 = np.maximum(x1[current], x1[indices[1:]])\n",
    "        yy1 = np.maximum(y1[current], y1[indices[1:]])\n",
    "        xx2 = np.minimum(x2[current], x2[indices[1:]])\n",
    "        yy2 = np.minimum(y2[current], y2[indices[1:]])\n",
    "\n",
    "        inter_area = np.maximum(0, xx2 - xx1) * np.maximum(0, yy2 - yy1)\n",
    "        box_area_current = (x2[current] - x1[current]) * (y2[current] - y1[current])\n",
    "        box_area_indices = (x2[indices[1:]] - x1[indices[1:]]) * (y2[indices[1:]] - y1[indices[1:]])\n",
    "        union_area = box_area_current + box_area_indices - inter_area\n",
    "\n",
    "        iou = inter_area / (union_area + 1e-6)\n",
    "        # Retain boxes with IoU less than the threshold\n",
    "        indices = indices[1:][iou < iou_threshold]\n",
    "\n",
    "    # Filter by confidence score threshold\n",
    "    nms_results = [box.tolist() for box in selected_boxes if box[4] > score_threshold]\n",
    "    return nms_results"
   ]
  },
  {
   "cell_type": "code",
   "execution_count": 14,
   "id": "04a2e865",
   "metadata": {},
   "outputs": [],
   "source": [
    "# NMS 결과 저장 디렉토리\n",
    "nms_results_dir = \"/home/ec2-user/SageMaker/yujin/nms_detect\"\n",
    "os.makedirs(nms_results_dir, exist_ok=True)\n",
    "\n",
    "# YOLOv8 결과 객체에 대한 원래 이미지 이름 추출\n",
    "image_paths = [os.path.basename(result.path) for result in results]  # 각 결과에서 이미지 경로 추출\n",
    "\n",
    "# 예측 결과에서 원본 데이터 처리 및 NMS 적용\n",
    "final_results = []\n",
    "for result in results:  # YOLOv8 결과 객체\n",
    "    predictions = []\n",
    "    if result.boxes:  # Check if there are any detections\n",
    "        for box in result.boxes.data:  # Access the bounding box tensor\n",
    "            x1, y1, x2, y2 = box[:4].tolist()  # Extract bounding box coordinates\n",
    "            score = box[4].item()  # Confidence score\n",
    "            class_id = box[5].item()  # Class ID\n",
    "            predictions.append([x1, y1, x2, y2, score, class_id])\n",
    "\n",
    "    # Apply NMS\n",
    "    if predictions:  # Apply NMS only if predictions exist\n",
    "        nms_result = apply_nms(predictions, iou_threshold=0.5, score_threshold=0.3)\n",
    "        final_results.append(nms_result)\n",
    "    else:\n",
    "        final_results.append([])  # No detections for this image\n",
    "\n",
    "# NMS 결과 저장 (YOLO 형식으로 변환하여 저장)\n",
    "for i, detections in enumerate(final_results):\n",
    "    # 원래 이미지 파일 이름에서 확장자를 제거하고 .txt 확장자 추가\n",
    "    image_name = os.path.basename(image_paths[i])  # 예: \"image1.jpg\"\n",
    "    base_name = os.path.splitext(image_name)[0]  # 예: \"image1\"\n",
    "    result_file = os.path.join(nms_results_dir, f\"{base_name}.txt\")\n",
    "\n",
    "    # 결과를 YOLO 형식으로 저장\n",
    "    with open(result_file, \"w\") as f:\n",
    "        for detection in detections:\n",
    "            x1, y1, x2, y2, score, class_id = detection\n",
    "            # YOLO 형식: class_id x_center y_center width height\n",
    "            x_center = (x1 + x2) / 2\n",
    "            y_center = (y1 + y2) / 2\n",
    "            width = x2 - x1\n",
    "            height = y2 - y1\n",
    "            # Normalize coordinates to [0, 1] (assuming image size is 640x640; adjust if different)\n",
    "            x_center /= 640\n",
    "            y_center /= 640\n",
    "            width /= 640\n",
    "            height /= 640\n",
    "            f.write(f\"{int(class_id)} {x_center:.6f} {y_center:.6f} {width:.6f} {height:.6f}\\n\")"
   ]
  },
  {
   "cell_type": "code",
   "execution_count": null,
   "id": "a641bc25",
   "metadata": {},
   "outputs": [],
   "source": [
    "# 결과 시각화 코드"
   ]
  },
  {
   "cell_type": "code",
   "execution_count": 5,
   "id": "7342f5be",
   "metadata": {},
   "outputs": [
    {
     "name": "stdout",
     "output_type": "stream",
     "text": [
      "Saved visualization for 1027_f_bmp.rf.2d9bd9333d148142ed69d8ab25529e9f.jpg at /home/ec2-user/SageMaker/data/yolov8detections/output2/1027_f_bmp.rf.2d9bd9333d148142ed69d8ab25529e9f_result.jpg\n",
      "Saved visualization for 1028_rotated180_86_bmp.rf.f7ff82b27aa6d63cf3944eb3665fa471.jpg at /home/ec2-user/SageMaker/data/yolov8detections/output2/1028_rotated180_86_bmp.rf.f7ff82b27aa6d63cf3944eb3665fa471_result.jpg\n",
      "Saved visualization for 1116_rotated90_15_bmp.rf.b4fa3de48f65a6cbe592dc55b4772b2c.jpg at /home/ec2-user/SageMaker/data/yolov8detections/output2/1116_rotated90_15_bmp.rf.b4fa3de48f65a6cbe592dc55b4772b2c_result.jpg\n",
      "Saved visualization for 1500_bmp.rf.51986c61375655a5111bc39723a08bec.jpg at /home/ec2-user/SageMaker/data/yolov8detections/output2/1500_bmp.rf.51986c61375655a5111bc39723a08bec_result.jpg\n",
      "Saved visualization for 1804_bmp.rf.c15eaeb4fd8af7a62a1e6d216d3ad5ae.jpg at /home/ec2-user/SageMaker/data/yolov8detections/output2/1804_bmp.rf.c15eaeb4fd8af7a62a1e6d216d3ad5ae_result.jpg\n",
      "Saved visualization for 1811_r_bmp.rf.7a618f28c6de6abdb32d5a7f30763495.jpg at /home/ec2-user/SageMaker/data/yolov8detections/output2/1811_r_bmp.rf.7a618f28c6de6abdb32d5a7f30763495_result.jpg\n",
      "Saved visualization for 2659_rotated180_1_bmp.rf.1888248d81b6da509ec3521389bf3f22.jpg at /home/ec2-user/SageMaker/data/yolov8detections/output2/2659_rotated180_1_bmp.rf.1888248d81b6da509ec3521389bf3f22_result.jpg\n",
      "Saved visualization for 2667_gn_bmp.rf.5071b86f3cda7dba17010afb217158ee.jpg at /home/ec2-user/SageMaker/data/yolov8detections/output2/2667_gn_bmp.rf.5071b86f3cda7dba17010afb217158ee_result.jpg\n",
      "Saved visualization for 4447_flipped_ud_8_bmp.rf.3c80abf1a12c83483048d37ef9196f3a.jpg at /home/ec2-user/SageMaker/data/yolov8detections/output2/4447_flipped_ud_8_bmp.rf.3c80abf1a12c83483048d37ef9196f3a_result.jpg\n",
      "Saved visualization for 4876_bmp.rf.ea31e3f688f73d6246b770ee9d63873d.jpg at /home/ec2-user/SageMaker/data/yolov8detections/output2/4876_bmp.rf.ea31e3f688f73d6246b770ee9d63873d_result.jpg\n",
      "Saved visualization for 4876_gb_bmp.rf.f5dc22c376f1d11aa913979d76999bd6.jpg at /home/ec2-user/SageMaker/data/yolov8detections/output2/4876_gb_bmp.rf.f5dc22c376f1d11aa913979d76999bd6_result.jpg\n",
      "Saved visualization for 4877_bmp.rf.2ebddf710ca8a212b6ef56c738741778.jpg at /home/ec2-user/SageMaker/data/yolov8detections/output2/4877_bmp.rf.2ebddf710ca8a212b6ef56c738741778_result.jpg\n",
      "Saved visualization for 4878_bmp.rf.aae96d413c9147048b888bd15d8830f9.jpg at /home/ec2-user/SageMaker/data/yolov8detections/output2/4878_bmp.rf.aae96d413c9147048b888bd15d8830f9_result.jpg\n",
      "Saved visualization for 4878_gbrfgn_bmp.rf.92d920198b80ee2499b58894bf1a0b6b.jpg at /home/ec2-user/SageMaker/data/yolov8detections/output2/4878_gbrfgn_bmp.rf.92d920198b80ee2499b58894bf1a0b6b_result.jpg\n",
      "Saved visualization for 4879_bmp.rf.117d708216d63257cc85cb720b584cd1.jpg at /home/ec2-user/SageMaker/data/yolov8detections/output2/4879_bmp.rf.117d708216d63257cc85cb720b584cd1_result.jpg\n",
      "Saved visualization for 4879_fgb_bmp.rf.ad5ce208aabf79e5b3d3c1bcb36e04e3.jpg at /home/ec2-user/SageMaker/data/yolov8detections/output2/4879_fgb_bmp.rf.ad5ce208aabf79e5b3d3c1bcb36e04e3_result.jpg\n",
      "Saved visualization for 4879_frgbgn_bmp.rf.d41322ba3a4c584b5e95042abe3a9381.jpg at /home/ec2-user/SageMaker/data/yolov8detections/output2/4879_frgbgn_bmp.rf.d41322ba3a4c584b5e95042abe3a9381_result.jpg\n",
      "Saved visualization for 4879_gb_bmp.rf.310cdd9626ea3b942a940aed5e8e5e4c.jpg at /home/ec2-user/SageMaker/data/yolov8detections/output2/4879_gb_bmp.rf.310cdd9626ea3b942a940aed5e8e5e4c_result.jpg\n",
      "Saved visualization for 4879_gbfgnr_bmp.rf.8d632428e62cf7af0a9b34acaa07236f.jpg at /home/ec2-user/SageMaker/data/yolov8detections/output2/4879_gbfgnr_bmp.rf.8d632428e62cf7af0a9b34acaa07236f_result.jpg\n",
      "Saved visualization for 4879_gbgn_bmp.rf.5292928cce70c692083c44d2767e2f66.jpg at /home/ec2-user/SageMaker/data/yolov8detections/output2/4879_gbgn_bmp.rf.5292928cce70c692083c44d2767e2f66_result.jpg\n",
      "Saved visualization for 4879_gbgnrf_bmp.rf.870558e9cd28c0c91a48edc9e4380dd2.jpg at /home/ec2-user/SageMaker/data/yolov8detections/output2/4879_gbgnrf_bmp.rf.870558e9cd28c0c91a48edc9e4380dd2_result.jpg\n",
      "Saved visualization for 4879_gbr_bmp.rf.ae6524151fc42d917de41e960c264063.jpg at /home/ec2-user/SageMaker/data/yolov8detections/output2/4879_gbr_bmp.rf.ae6524151fc42d917de41e960c264063_result.jpg\n",
      "Saved visualization for 4879_gnf_bmp.rf.9efcb8eea573aba5292083409fb16aae.jpg at /home/ec2-user/SageMaker/data/yolov8detections/output2/4879_gnf_bmp.rf.9efcb8eea573aba5292083409fb16aae_result.jpg\n",
      "Saved visualization for 4879_gnfr_bmp.rf.38299368eaa79a5d06d2d017bb465bd8.jpg at /home/ec2-user/SageMaker/data/yolov8detections/output2/4879_gnfr_bmp.rf.38299368eaa79a5d06d2d017bb465bd8_result.jpg\n",
      "Saved visualization for 4879_gngbf_bmp.rf.5753e83dbc9cf7ef5d05d5f1f03f877a.jpg at /home/ec2-user/SageMaker/data/yolov8detections/output2/4879_gngbf_bmp.rf.5753e83dbc9cf7ef5d05d5f1f03f877a_result.jpg\n",
      "Saved visualization for 4879_gngbfr_bmp.rf.9af2b729cf22f87482789537d905a488.jpg at /home/ec2-user/SageMaker/data/yolov8detections/output2/4879_gngbfr_bmp.rf.9af2b729cf22f87482789537d905a488_result.jpg\n",
      "Saved visualization for 4879_gnrf_bmp.rf.87fa19d2ec0a6fac7ed495e19229611f.jpg at /home/ec2-user/SageMaker/data/yolov8detections/output2/4879_gnrf_bmp.rf.87fa19d2ec0a6fac7ed495e19229611f_result.jpg\n",
      "Saved visualization for 4879_gnrgb_bmp.rf.8e5b9ea45a7cbcd1bb27ee79e0f04cfe.jpg at /home/ec2-user/SageMaker/data/yolov8detections/output2/4879_gnrgb_bmp.rf.8e5b9ea45a7cbcd1bb27ee79e0f04cfe_result.jpg\n",
      "Saved visualization for 4879_gnrgbf_bmp.rf.af3740cf589bf139625846f5b60c9e37.jpg at /home/ec2-user/SageMaker/data/yolov8detections/output2/4879_gnrgbf_bmp.rf.af3740cf589bf139625846f5b60c9e37_result.jpg\n",
      "Saved visualization for 4879_rf_bmp.rf.56d56c28cd0ff6ee308409b359561da4.jpg at /home/ec2-user/SageMaker/data/yolov8detections/output2/4879_rf_bmp.rf.56d56c28cd0ff6ee308409b359561da4_result.jpg\n",
      "Saved visualization for 4879_rfgb_bmp.rf.a340d215de2b454f37df62ec9a1fcce2.jpg at /home/ec2-user/SageMaker/data/yolov8detections/output2/4879_rfgb_bmp.rf.a340d215de2b454f37df62ec9a1fcce2_result.jpg\n",
      "Saved visualization for 4879_rfgbgn_bmp.rf.ac841b375650242c6f5392476f76b2e2.jpg at /home/ec2-user/SageMaker/data/yolov8detections/output2/4879_rfgbgn_bmp.rf.ac841b375650242c6f5392476f76b2e2_result.jpg\n",
      "Saved visualization for 4879_rfgngb_bmp.rf.81c56277623ebdf6d19ce66400ba6e96.jpg at /home/ec2-user/SageMaker/data/yolov8detections/output2/4879_rfgngb_bmp.rf.81c56277623ebdf6d19ce66400ba6e96_result.jpg\n",
      "Saved visualization for 4879_rgb_bmp.rf.0c311f20de3143fb48f1541d91ba94f5.jpg at /home/ec2-user/SageMaker/data/yolov8detections/output2/4879_rgb_bmp.rf.0c311f20de3143fb48f1541d91ba94f5_result.jpg\n",
      "Saved visualization for 4879_rgbfgn_bmp.rf.3f9baafcbabd9eebdfd1a2b60eeddd8f.jpg at /home/ec2-user/SageMaker/data/yolov8detections/output2/4879_rgbfgn_bmp.rf.3f9baafcbabd9eebdfd1a2b60eeddd8f_result.jpg\n",
      "Saved visualization for 4880_bmp.rf.c4958e9e4ccd2ae739fe6c37c320b33d.jpg at /home/ec2-user/SageMaker/data/yolov8detections/output2/4880_bmp.rf.c4958e9e4ccd2ae739fe6c37c320b33d_result.jpg\n",
      "Saved visualization for 4880_flipped_lr_14_bmp.rf.5195bae43aa36c932ce67eefc2438f4b.jpg at /home/ec2-user/SageMaker/data/yolov8detections/output2/4880_flipped_lr_14_bmp.rf.5195bae43aa36c932ce67eefc2438f4b_result.jpg\n",
      "Saved visualization for 4880_flipped_ud_13_bmp.rf.0e749bcabd8f83c980b6b683ef19661a.jpg at /home/ec2-user/SageMaker/data/yolov8detections/output2/4880_flipped_ud_13_bmp.rf.0e749bcabd8f83c980b6b683ef19661a_result.jpg\n",
      "Saved visualization for 4880_rotated180_11_bmp.rf.edf07f3e0509ebc584bdf68b212b595a.jpg at /home/ec2-user/SageMaker/data/yolov8detections/output2/4880_rotated180_11_bmp.rf.edf07f3e0509ebc584bdf68b212b595a_result.jpg\n",
      "Saved visualization for 4880_rotated270_12_bmp.rf.ef8e4786e73eafed0f9edee2abc2de4a.jpg at /home/ec2-user/SageMaker/data/yolov8detections/output2/4880_rotated270_12_bmp.rf.ef8e4786e73eafed0f9edee2abc2de4a_result.jpg\n",
      "Saved visualization for 4880_rotated90_10_bmp.rf.b75465431e1d6af6da229d46bcce1961.jpg at /home/ec2-user/SageMaker/data/yolov8detections/output2/4880_rotated90_10_bmp.rf.b75465431e1d6af6da229d46bcce1961_result.jpg\n",
      "Saved visualization for 4881_bmp.rf.a54bda96803b0b5468486ca7445e3146.jpg at /home/ec2-user/SageMaker/data/yolov8detections/output2/4881_bmp.rf.a54bda96803b0b5468486ca7445e3146_result.jpg\n",
      "Saved visualization for 4883_bmp.rf.9de662b63e0115d3ab75e998597ead59.jpg at /home/ec2-user/SageMaker/data/yolov8detections/output2/4883_bmp.rf.9de662b63e0115d3ab75e998597ead59_result.jpg\n",
      "Saved visualization for 4883_f_bmp.rf.5fd98bf3da3e2346e41886c80f307602.jpg at /home/ec2-user/SageMaker/data/yolov8detections/output2/4883_f_bmp.rf.5fd98bf3da3e2346e41886c80f307602_result.jpg\n",
      "Saved visualization for 4885_bmp.rf.b2fef3918587398a1b6a7c4d5b60238c.jpg at /home/ec2-user/SageMaker/data/yolov8detections/output2/4885_bmp.rf.b2fef3918587398a1b6a7c4d5b60238c_result.jpg\n",
      "Saved visualization for 4887_bmp.rf.538827ae47ed9d814e957bd6795fe62a.jpg at /home/ec2-user/SageMaker/data/yolov8detections/output2/4887_bmp.rf.538827ae47ed9d814e957bd6795fe62a_result.jpg\n",
      "Saved visualization for 4887_flipped_lr_44_bmp.rf.734cb38a3b439d81eebe63be8ce81d61.jpg at /home/ec2-user/SageMaker/data/yolov8detections/output2/4887_flipped_lr_44_bmp.rf.734cb38a3b439d81eebe63be8ce81d61_result.jpg\n",
      "Saved visualization for 4887_flipped_ud_43_bmp.rf.2230b7cac8790f00c93c14d3a2244c8f.jpg at /home/ec2-user/SageMaker/data/yolov8detections/output2/4887_flipped_ud_43_bmp.rf.2230b7cac8790f00c93c14d3a2244c8f_result.jpg\n",
      "Saved visualization for 4887_rotated180_41_bmp.rf.88f6c5ae47578f2285c99064d94201f3.jpg at /home/ec2-user/SageMaker/data/yolov8detections/output2/4887_rotated180_41_bmp.rf.88f6c5ae47578f2285c99064d94201f3_result.jpg\n",
      "Saved visualization for 4887_rotated270_42_bmp.rf.93f61a9864e838a74590bdf3a1b28b6c.jpg at /home/ec2-user/SageMaker/data/yolov8detections/output2/4887_rotated270_42_bmp.rf.93f61a9864e838a74590bdf3a1b28b6c_result.jpg\n",
      "Saved visualization for 4887_rotated90_40_bmp.rf.a84238679478de0768d74c761b8a90c4.jpg at /home/ec2-user/SageMaker/data/yolov8detections/output2/4887_rotated90_40_bmp.rf.a84238679478de0768d74c761b8a90c4_result.jpg\n",
      "Saved visualization for 4888_bmp.rf.fdfdced4ae5263c919ce464434b8e4f8.jpg at /home/ec2-user/SageMaker/data/yolov8detections/output2/4888_bmp.rf.fdfdced4ae5263c919ce464434b8e4f8_result.jpg\n",
      "Saved visualization for 4888_fgnrgb_bmp.rf.b151f97cc506853e25b78e7c296738a8.jpg at /home/ec2-user/SageMaker/data/yolov8detections/output2/4888_fgnrgb_bmp.rf.b151f97cc506853e25b78e7c296738a8_result.jpg\n",
      "Saved visualization for 4889_bmp.rf.6b6318d2147f51765d5cd5491e4224e2.jpg at /home/ec2-user/SageMaker/data/yolov8detections/output2/4889_bmp.rf.6b6318d2147f51765d5cd5491e4224e2_result.jpg\n",
      "Saved visualization for 4892_bmp.rf.496122c2d4d68d25b9a9321634313d4b.jpg at /home/ec2-user/SageMaker/data/yolov8detections/output2/4892_bmp.rf.496122c2d4d68d25b9a9321634313d4b_result.jpg\n",
      "Saved visualization for 4893_bmp.rf.d812ab0830a42a3974e479d962fff4e2.jpg at /home/ec2-user/SageMaker/data/yolov8detections/output2/4893_bmp.rf.d812ab0830a42a3974e479d962fff4e2_result.jpg\n",
      "Saved visualization for 4894_bmp.rf.27c6762882ef7d5720fca3d23f872790.jpg at /home/ec2-user/SageMaker/data/yolov8detections/output2/4894_bmp.rf.27c6762882ef7d5720fca3d23f872790_result.jpg\n",
      "Saved visualization for 4895_bmp.rf.d0ab454b7e1df359a2c11e1bfb077867.jpg at /home/ec2-user/SageMaker/data/yolov8detections/output2/4895_bmp.rf.d0ab454b7e1df359a2c11e1bfb077867_result.jpg\n",
      "Saved visualization for 4896_bmp.rf.c0f16d865aebe21b56129ea5f5115af6.jpg at /home/ec2-user/SageMaker/data/yolov8detections/output2/4896_bmp.rf.c0f16d865aebe21b56129ea5f5115af6_result.jpg\n",
      "Saved visualization for 4897_bmp.rf.bc84500dd96396026089e5bdc2493bf2.jpg at /home/ec2-user/SageMaker/data/yolov8detections/output2/4897_bmp.rf.bc84500dd96396026089e5bdc2493bf2_result.jpg\n",
      "Saved visualization for 4897_flipped_lr_9_bmp.rf.5fe82c306ca9b0d7cf5bbcce99a23dd0.jpg at /home/ec2-user/SageMaker/data/yolov8detections/output2/4897_flipped_lr_9_bmp.rf.5fe82c306ca9b0d7cf5bbcce99a23dd0_result.jpg\n",
      "Saved visualization for 4897_flipped_ud_8_bmp.rf.cb1c56bbf66404e373287ad0a6fc4302.jpg at /home/ec2-user/SageMaker/data/yolov8detections/output2/4897_flipped_ud_8_bmp.rf.cb1c56bbf66404e373287ad0a6fc4302_result.jpg\n",
      "Saved visualization for 4897_rotated180_6_bmp.rf.ae15902b67d08a3ab1601e8a981cd212.jpg at /home/ec2-user/SageMaker/data/yolov8detections/output2/4897_rotated180_6_bmp.rf.ae15902b67d08a3ab1601e8a981cd212_result.jpg\n",
      "Saved visualization for 4897_rotated270_7_bmp.rf.88cb977c3fdcaa7eb9f4b993d3194aae.jpg at /home/ec2-user/SageMaker/data/yolov8detections/output2/4897_rotated270_7_bmp.rf.88cb977c3fdcaa7eb9f4b993d3194aae_result.jpg\n",
      "Saved visualization for 4897_rotated90_5_bmp.rf.dbbb29853ae6f03a24698ffc0c2822b6.jpg at /home/ec2-user/SageMaker/data/yolov8detections/output2/4897_rotated90_5_bmp.rf.dbbb29853ae6f03a24698ffc0c2822b6_result.jpg\n",
      "Saved visualization for 4898_bmp.rf.756d2f08736bb9ef7a5ef7304e5c5292.jpg at /home/ec2-user/SageMaker/data/yolov8detections/output2/4898_bmp.rf.756d2f08736bb9ef7a5ef7304e5c5292_result.jpg\n",
      "Saved visualization for 4898_rgnf_bmp.rf.29b808a1d9e541a0716e087032c67a4d.jpg at /home/ec2-user/SageMaker/data/yolov8detections/output2/4898_rgnf_bmp.rf.29b808a1d9e541a0716e087032c67a4d_result.jpg\n",
      "Saved visualization for 4899_bmp.rf.8e216f5cee7b620884fa746dc01d4765.jpg at /home/ec2-user/SageMaker/data/yolov8detections/output2/4899_bmp.rf.8e216f5cee7b620884fa746dc01d4765_result.jpg\n",
      "Saved visualization for 4899_flipped_lr_4_bmp.rf.3a977cef365085cff835803b2309381f.jpg at /home/ec2-user/SageMaker/data/yolov8detections/output2/4899_flipped_lr_4_bmp.rf.3a977cef365085cff835803b2309381f_result.jpg\n",
      "Saved visualization for 4899_flipped_ud_3_bmp.rf.9b612dbf90c62d9c05a15929fed226f6.jpg at /home/ec2-user/SageMaker/data/yolov8detections/output2/4899_flipped_ud_3_bmp.rf.9b612dbf90c62d9c05a15929fed226f6_result.jpg\n",
      "Saved visualization for 4899_rotated180_1_bmp.rf.bb5c84f5266a291795231d6c4e3597f6.jpg at /home/ec2-user/SageMaker/data/yolov8detections/output2/4899_rotated180_1_bmp.rf.bb5c84f5266a291795231d6c4e3597f6_result.jpg\n",
      "Saved visualization for 4899_rotated270_2_bmp.rf.8f41b65d5439134ee0dab7bf317b0243.jpg at /home/ec2-user/SageMaker/data/yolov8detections/output2/4899_rotated270_2_bmp.rf.8f41b65d5439134ee0dab7bf317b0243_result.jpg\n",
      "Saved visualization for 4899_rotated90_0_bmp.rf.7c9e8ca0525f10f0d3b280b56388e216.jpg at /home/ec2-user/SageMaker/data/yolov8detections/output2/4899_rotated90_0_bmp.rf.7c9e8ca0525f10f0d3b280b56388e216_result.jpg\n",
      "Saved visualization for 4903_bmp.rf.eab21fdd770ba3e13df6dbdf4f826488.jpg at /home/ec2-user/SageMaker/data/yolov8detections/output2/4903_bmp.rf.eab21fdd770ba3e13df6dbdf4f826488_result.jpg\n",
      "Saved visualization for 4903_f_bmp.rf.f2713bf674103ba77311067c77af1ccb.jpg at /home/ec2-user/SageMaker/data/yolov8detections/output2/4903_f_bmp.rf.f2713bf674103ba77311067c77af1ccb_result.jpg\n",
      "Saved visualization for 4904_bmp.rf.fe6aa1f8459a6ce1c87173935c3d40ca.jpg at /home/ec2-user/SageMaker/data/yolov8detections/output2/4904_bmp.rf.fe6aa1f8459a6ce1c87173935c3d40ca_result.jpg\n",
      "Saved visualization for 4904_fgbrgn_bmp.rf.2c8c144e1c6e9022a4b8ae99d734b711.jpg at /home/ec2-user/SageMaker/data/yolov8detections/output2/4904_fgbrgn_bmp.rf.2c8c144e1c6e9022a4b8ae99d734b711_result.jpg\n",
      "Saved visualization for 4905_bmp.rf.6c1350de90fb71364348ed7ceb58fd7b.jpg at /home/ec2-user/SageMaker/data/yolov8detections/output2/4905_bmp.rf.6c1350de90fb71364348ed7ceb58fd7b_result.jpg\n",
      "Saved visualization for 4906_bmp.rf.c4a358def44fb0c55f046e5ccec4dfc4.jpg at /home/ec2-user/SageMaker/data/yolov8detections/output2/4906_bmp.rf.c4a358def44fb0c55f046e5ccec4dfc4_result.jpg\n",
      "Saved visualization for 4906_rotated270_32_bmp.rf.0cfc68da3b04999030dde0bf00a6e244.jpg at /home/ec2-user/SageMaker/data/yolov8detections/output2/4906_rotated270_32_bmp.rf.0cfc68da3b04999030dde0bf00a6e244_result.jpg\n",
      "Saved visualization for 4907_bmp.rf.7af0a89f1287035ba4671fb635d889e5.jpg at /home/ec2-user/SageMaker/data/yolov8detections/output2/4907_bmp.rf.7af0a89f1287035ba4671fb635d889e5_result.jpg\n",
      "Saved visualization for 4910_bmp.rf.a51decf80a7cb3c029e92da69821b841.jpg at /home/ec2-user/SageMaker/data/yolov8detections/output2/4910_bmp.rf.a51decf80a7cb3c029e92da69821b841_result.jpg\n",
      "Saved visualization for 4910_rgb_bmp.rf.a98b86ab59dff5dd805a233438603e40.jpg at /home/ec2-user/SageMaker/data/yolov8detections/output2/4910_rgb_bmp.rf.a98b86ab59dff5dd805a233438603e40_result.jpg\n",
      "Saved visualization for 4911_bmp.rf.b4a93800bcf6b250e4b9881f1358c8d5.jpg at /home/ec2-user/SageMaker/data/yolov8detections/output2/4911_bmp.rf.b4a93800bcf6b250e4b9881f1358c8d5_result.jpg\n",
      "Saved visualization for 4912_bmp.rf.a43b4c954d82b084e157d54385ebfad9.jpg at /home/ec2-user/SageMaker/data/yolov8detections/output2/4912_bmp.rf.a43b4c954d82b084e157d54385ebfad9_result.jpg\n",
      "Saved visualization for 4912_gbf_bmp.rf.09447d271841193d850d93a099358c66.jpg at /home/ec2-user/SageMaker/data/yolov8detections/output2/4912_gbf_bmp.rf.09447d271841193d850d93a099358c66_result.jpg\n",
      "Saved visualization for 4913_bmp.rf.b00246576a66c0fafd46dfed593c9406.jpg at /home/ec2-user/SageMaker/data/yolov8detections/output2/4913_bmp.rf.b00246576a66c0fafd46dfed593c9406_result.jpg\n",
      "Saved visualization for 4915_bmp.rf.e776f7e738a9a39697960955e60959a7.jpg at /home/ec2-user/SageMaker/data/yolov8detections/output2/4915_bmp.rf.e776f7e738a9a39697960955e60959a7_result.jpg\n",
      "Saved visualization for 4918_bmp.rf.6bc235ac0f319836e315d1ccdb956d3b.jpg at /home/ec2-user/SageMaker/data/yolov8detections/output2/4918_bmp.rf.6bc235ac0f319836e315d1ccdb956d3b_result.jpg\n",
      "Saved visualization for 4919_bmp.rf.bf0d9cb7e4e56c35e4274eeeea3fd024.jpg at /home/ec2-user/SageMaker/data/yolov8detections/output2/4919_bmp.rf.bf0d9cb7e4e56c35e4274eeeea3fd024_result.jpg\n",
      "Saved visualization for 4920_bmp.rf.c6786ebc6240275851a832ea9b83a033.jpg at /home/ec2-user/SageMaker/data/yolov8detections/output2/4920_bmp.rf.c6786ebc6240275851a832ea9b83a033_result.jpg\n",
      "Saved visualization for 4921_bmp.rf.bbf911d8ca9baae47831a5a1768bc96b.jpg at /home/ec2-user/SageMaker/data/yolov8detections/output2/4921_bmp.rf.bbf911d8ca9baae47831a5a1768bc96b_result.jpg\n",
      "Saved visualization for 4922_bmp.rf.74a29707059b97f9f6c8cc00ed2f3aa4.jpg at /home/ec2-user/SageMaker/data/yolov8detections/output2/4922_bmp.rf.74a29707059b97f9f6c8cc00ed2f3aa4_result.jpg\n",
      "Saved visualization for 4923_bmp.rf.b68fd36757aefe9238216f84b954786d.jpg at /home/ec2-user/SageMaker/data/yolov8detections/output2/4923_bmp.rf.b68fd36757aefe9238216f84b954786d_result.jpg\n",
      "Saved visualization for 4925_bmp.rf.d26d44d4957878a4b1d805c08749fb6e.jpg at /home/ec2-user/SageMaker/data/yolov8detections/output2/4925_bmp.rf.d26d44d4957878a4b1d805c08749fb6e_result.jpg\n",
      "Saved visualization for 4926_bmp.rf.e17e9aaf4277c27e6c899e6ac19f5f28.jpg at /home/ec2-user/SageMaker/data/yolov8detections/output2/4926_bmp.rf.e17e9aaf4277c27e6c899e6ac19f5f28_result.jpg\n",
      "Saved visualization for 4926_fgn_bmp.rf.137e95d38032a91ce6a2781f33b1a05b.jpg at /home/ec2-user/SageMaker/data/yolov8detections/output2/4926_fgn_bmp.rf.137e95d38032a91ce6a2781f33b1a05b_result.jpg\n",
      "Saved visualization for 4927_bmp.rf.2794b70cf959b702689f07b71949c78d.jpg at /home/ec2-user/SageMaker/data/yolov8detections/output2/4927_bmp.rf.2794b70cf959b702689f07b71949c78d_result.jpg\n",
      "Saved visualization for 4928_bmp.rf.69dcead24031be959bd39ac2d3aa3002.jpg at /home/ec2-user/SageMaker/data/yolov8detections/output2/4928_bmp.rf.69dcead24031be959bd39ac2d3aa3002_result.jpg\n",
      "Saved visualization for 4929_bmp.rf.69f8e18383f16414672a460f0e904e2d.jpg at /home/ec2-user/SageMaker/data/yolov8detections/output2/4929_bmp.rf.69f8e18383f16414672a460f0e904e2d_result.jpg\n",
      "Saved visualization for 4930_bmp.rf.a03c2dfd22777a7c47384680b37609ab.jpg at /home/ec2-user/SageMaker/data/yolov8detections/output2/4930_bmp.rf.a03c2dfd22777a7c47384680b37609ab_result.jpg\n",
      "Saved visualization for 4931_bmp.rf.fd52aed77dc48d2d287eaf28004986a5.jpg at /home/ec2-user/SageMaker/data/yolov8detections/output2/4931_bmp.rf.fd52aed77dc48d2d287eaf28004986a5_result.jpg\n",
      "Saved visualization for 4931_gngbr_bmp.rf.7769c9169243cfae357fdb77e48743bb.jpg at /home/ec2-user/SageMaker/data/yolov8detections/output2/4931_gngbr_bmp.rf.7769c9169243cfae357fdb77e48743bb_result.jpg\n",
      "Saved visualization for 4936_bmp.rf.b8ba39679d91c27b114ac6b841aa9efe.jpg at /home/ec2-user/SageMaker/data/yolov8detections/output2/4936_bmp.rf.b8ba39679d91c27b114ac6b841aa9efe_result.jpg\n",
      "Saved visualization for 4937_bmp.rf.76787ed2a7b1af8a17595bdf82233efb.jpg at /home/ec2-user/SageMaker/data/yolov8detections/output2/4937_bmp.rf.76787ed2a7b1af8a17595bdf82233efb_result.jpg\n",
      "Saved visualization for 4938_bmp.rf.52b1f832a59aa93ac0fcd571a0aa48f2.jpg at /home/ec2-user/SageMaker/data/yolov8detections/output2/4938_bmp.rf.52b1f832a59aa93ac0fcd571a0aa48f2_result.jpg\n",
      "Saved visualization for 4939_bmp.rf.e1f53d91c85d46d8c0d463f79b10052d.jpg at /home/ec2-user/SageMaker/data/yolov8detections/output2/4939_bmp.rf.e1f53d91c85d46d8c0d463f79b10052d_result.jpg\n",
      "Saved visualization for 4945_bmp.rf.572bb3e928b300b28ce1f34ab8cc9d32.jpg at /home/ec2-user/SageMaker/data/yolov8detections/output2/4945_bmp.rf.572bb3e928b300b28ce1f34ab8cc9d32_result.jpg\n",
      "Saved visualization for 4946_bmp.rf.effee85a9be6af75239eb5f224ccf491.jpg at /home/ec2-user/SageMaker/data/yolov8detections/output2/4946_bmp.rf.effee85a9be6af75239eb5f224ccf491_result.jpg\n",
      "Saved visualization for 4946_gnfgb_bmp.rf.0a257a69383c89e8915844eb5c12aa1b.jpg at /home/ec2-user/SageMaker/data/yolov8detections/output2/4946_gnfgb_bmp.rf.0a257a69383c89e8915844eb5c12aa1b_result.jpg\n",
      "Saved visualization for 4946_rf_bmp.rf.6132d2cf427d0211ee8be11c755566f1.jpg at /home/ec2-user/SageMaker/data/yolov8detections/output2/4946_rf_bmp.rf.6132d2cf427d0211ee8be11c755566f1_result.jpg\n",
      "Saved visualization for 4947_bmp.rf.71acd162f10946e7686228389cb9f2e0.jpg at /home/ec2-user/SageMaker/data/yolov8detections/output2/4947_bmp.rf.71acd162f10946e7686228389cb9f2e0_result.jpg\n",
      "Saved visualization for 4948_bmp.rf.a610446ee32756a3e34bbe94aeda0d14.jpg at /home/ec2-user/SageMaker/data/yolov8detections/output2/4948_bmp.rf.a610446ee32756a3e34bbe94aeda0d14_result.jpg\n",
      "Saved visualization for 4954_gbrgnf_bmp.rf.5539e9f0292538fa8295c8e35753c824.jpg at /home/ec2-user/SageMaker/data/yolov8detections/output2/4954_gbrgnf_bmp.rf.5539e9f0292538fa8295c8e35753c824_result.jpg\n",
      "Saved visualization for 4976_bmp.rf.3e85167767bccaede5482155fa2b7360.jpg at /home/ec2-user/SageMaker/data/yolov8detections/output2/4976_bmp.rf.3e85167767bccaede5482155fa2b7360_result.jpg\n",
      "Saved visualization for 4987_rgbfgn_bmp.rf.268b91496288198fb63b01e4d9cef0c9.jpg at /home/ec2-user/SageMaker/data/yolov8detections/output2/4987_rgbfgn_bmp.rf.268b91496288198fb63b01e4d9cef0c9_result.jpg\n",
      "Saved visualization for 5194_frgn_bmp.rf.a43d467d62ebea907a3888f3c416e780.jpg at /home/ec2-user/SageMaker/data/yolov8detections/output2/5194_frgn_bmp.rf.a43d467d62ebea907a3888f3c416e780_result.jpg\n",
      "Saved visualization for 5194_gbrgnf_bmp.rf.a765100bc330b0a9d4ba3e3f98f57be7.jpg at /home/ec2-user/SageMaker/data/yolov8detections/output2/5194_gbrgnf_bmp.rf.a765100bc330b0a9d4ba3e3f98f57be7_result.jpg\n",
      "Saved visualization for 5194_r_bmp.rf.789235b42782acd9a6447e67fe18148a.jpg at /home/ec2-user/SageMaker/data/yolov8detections/output2/5194_r_bmp.rf.789235b42782acd9a6447e67fe18148a_result.jpg\n",
      "Saved visualization for 5970_bmp.rf.6729e848346990176ce2a6cc4b033a6a.jpg at /home/ec2-user/SageMaker/data/yolov8detections/output2/5970_bmp.rf.6729e848346990176ce2a6cc4b033a6a_result.jpg\n",
      "Saved visualization for 5970_f_bmp.rf.571af3f41c93c2e0091acda64b217e80.jpg at /home/ec2-user/SageMaker/data/yolov8detections/output2/5970_f_bmp.rf.571af3f41c93c2e0091acda64b217e80_result.jpg\n",
      "Saved visualization for 5970_fr_bmp.rf.f27cd5ef9a57b712741c756bd5aa6159.jpg at /home/ec2-user/SageMaker/data/yolov8detections/output2/5970_fr_bmp.rf.f27cd5ef9a57b712741c756bd5aa6159_result.jpg\n",
      "Saved visualization for 5970_gbfrgn_bmp.rf.694019a7d8eb8d4435b25d3b67278441.jpg at /home/ec2-user/SageMaker/data/yolov8detections/output2/5970_gbfrgn_bmp.rf.694019a7d8eb8d4435b25d3b67278441_result.jpg\n",
      "Saved visualization for 5970_gngbr_bmp.rf.dbae60fc1ab288edc4417bdecef1cbaf.jpg at /home/ec2-user/SageMaker/data/yolov8detections/output2/5970_gngbr_bmp.rf.dbae60fc1ab288edc4417bdecef1cbaf_result.jpg\n",
      "Saved visualization for 5970_gnrgb_bmp.rf.6a5aed744523266973afdbfddeae9459.jpg at /home/ec2-user/SageMaker/data/yolov8detections/output2/5970_gnrgb_bmp.rf.6a5aed744523266973afdbfddeae9459_result.jpg\n",
      "Saved visualization for 5970_r_bmp.rf.032c0d3ec741d3def904e3a8723cf025.jpg at /home/ec2-user/SageMaker/data/yolov8detections/output2/5970_r_bmp.rf.032c0d3ec741d3def904e3a8723cf025_result.jpg\n",
      "Saved visualization for 5970_rf_bmp.rf.64499f8004b4d0ec862a997429490217.jpg at /home/ec2-user/SageMaker/data/yolov8detections/output2/5970_rf_bmp.rf.64499f8004b4d0ec862a997429490217_result.jpg\n"
     ]
    }
   ],
   "source": [
    "import cv2\n",
    "import os\n",
    "\n",
    "# 경로 설정\n",
    "image_dir = \"/home/ec2-user/SageMaker/data/yolov8detections/test/images\"  # 테스트 이미지 경로\n",
    "output_dir = \"/home/ec2-user/SageMaker/data/yolov8detections/output2\"  # 결과 저장 경로\n",
    "os.makedirs(output_dir, exist_ok=True)  # 저장 폴더 생성\n",
    "\n",
    "# 클래스 이름 (YOLOv8에 따라 수정)\n",
    "class_names = [\"bubble\", \"dent\", \"foreignsub\", \"torn\"]\n",
    "\n",
    "# 테스트 이미지 파일 리스트 가져오기\n",
    "image_files = sorted(os.listdir(image_dir))  # 이미지 파일 리스트\n",
    "\n",
    "# 시각화 함수 정의\n",
    "def draw_boxes(image_path, detections, output_path):\n",
    "    image = cv2.imread(image_path)  # 이미지 읽기\n",
    "    if image is None:  # 이미지 파일 읽기 실패\n",
    "        print(f\"Failed to load image: {image_path}\")\n",
    "        return\n",
    "    for det in detections:\n",
    "        x1, y1, x2, y2, score, class_id = det\n",
    "        label = f\"{class_names[int(class_id)]} {score:.2f}\"  # 클래스 이름 및 confidence 표시\n",
    "        # 바운딩 박스 그리기\n",
    "        cv2.rectangle(image, (int(x1), int(y1)), (int(x2), int(y2)), (0, 255, 0), 2)\n",
    "        # 레이블 추가\n",
    "        cv2.putText(image, label, (int(x1), int(y1) - 10), cv2.FONT_HERSHEY_SIMPLEX, 0.5, (0, 255, 0), 2)\n",
    "    # 결과 저장\n",
    "    cv2.imwrite(output_path, image)\n",
    "\n",
    "# 결과 시각화\n",
    "for i, detections in enumerate(final_results):\n",
    "    if i >= len(image_files):  # 이미지 파일 부족 방지\n",
    "        print(f\"No corresponding image for result {i+1}\")\n",
    "        continue\n",
    "    image_path = os.path.join(image_dir, image_files[i])  # 실제 파일 이름 가져오기\n",
    "    output_path = os.path.join(output_dir, f\"{os.path.splitext(image_files[i])[0]}_result.jpg\")\n",
    "    draw_boxes(image_path, detections, output_path)\n",
    "    print(f\"Saved visualization for {image_files[i]} at {output_path}\")\n",
    "\n"
   ]
  },
  {
   "cell_type": "code",
   "execution_count": null,
   "id": "caee72ad",
   "metadata": {},
   "outputs": [],
   "source": []
  },
  {
   "cell_type": "code",
   "execution_count": null,
   "id": "e82ad04a",
   "metadata": {},
   "outputs": [],
   "source": [
    "# 성능지표"
   ]
  },
  {
   "cell_type": "code",
   "execution_count": 1,
   "id": "0236c2e1",
   "metadata": {},
   "outputs": [
    {
     "name": "stdout",
     "output_type": "stream",
     "text": [
      "Confusion Matrix:\n",
      "[[74  0  0  0 23]\n",
      " [ 0  8  0  0  1]\n",
      " [ 0  0  5  0  3]\n",
      " [ 0  0  0 17  1]\n",
      " [ 0  0  0  0  0]]\n",
      "\n",
      "Classification Report:\n",
      "              precision    recall  f1-score   support\n",
      "\n",
      "      bubble     1.0000    0.7629    0.8655        97\n",
      "        dent     1.0000    0.8889    0.9412         9\n",
      "  foreignsub     1.0000    0.6250    0.7692         8\n",
      "        torn     1.0000    0.9444    0.9714        18\n",
      "   unmatched     0.0000    0.0000    0.0000         0\n",
      "\n",
      "    accuracy                         0.7879       132\n",
      "   macro avg     0.8000    0.6442    0.7095       132\n",
      "weighted avg     1.0000    0.7879    0.8793       132\n",
      "\n",
      "\n",
      "Inference Time:\n",
      "Total inference time: 0.1308 seconds\n",
      "Average inference time per image: 0.0010 seconds\n"
     ]
    },
    {
     "name": "stderr",
     "output_type": "stream",
     "text": [
      "/home/ec2-user/anaconda3/envs/pytorch_p310/lib/python3.10/site-packages/sklearn/metrics/_classification.py:1531: UndefinedMetricWarning: Recall is ill-defined and being set to 0.0 in labels with no true samples. Use `zero_division` parameter to control this behavior.\n",
      "  _warn_prf(average, modifier, f\"{metric.capitalize()} is\", len(result))\n",
      "/home/ec2-user/anaconda3/envs/pytorch_p310/lib/python3.10/site-packages/sklearn/metrics/_classification.py:1531: UndefinedMetricWarning: Recall is ill-defined and being set to 0.0 in labels with no true samples. Use `zero_division` parameter to control this behavior.\n",
      "  _warn_prf(average, modifier, f\"{metric.capitalize()} is\", len(result))\n",
      "/home/ec2-user/anaconda3/envs/pytorch_p310/lib/python3.10/site-packages/sklearn/metrics/_classification.py:1531: UndefinedMetricWarning: Recall is ill-defined and being set to 0.0 in labels with no true samples. Use `zero_division` parameter to control this behavior.\n",
      "  _warn_prf(average, modifier, f\"{metric.capitalize()} is\", len(result))\n"
     ]
    }
   ],
   "source": [
    "import os\n",
    "import numpy as np\n",
    "from sklearn.metrics import confusion_matrix, classification_report\n",
    "import time  # 추론 시간 측정에 필요한 라이브러리\n",
    "\n",
    "# 경로 설정\n",
    "ground_truth_dir = \"/home/ec2-user/SageMaker/data/yolov8detections/test/labels\"\n",
    "predictions_dir = \"/home/ec2-user/SageMaker/yujin/nms_detect\"\n",
    "\n",
    "# 클래스 이름 정의\n",
    "class_names = ['bubble', 'dent', 'foreignsub', 'torn']\n",
    "\n",
    "# IoU 계산 함수\n",
    "def calculate_iou(box1, box2):\n",
    "    \"\"\"\n",
    "    Calculate IoU (Intersection over Union) for two bounding boxes.\n",
    "    Args:\n",
    "        box1, box2: [x_center, y_center, width, height] in YOLO format.\n",
    "    Returns:\n",
    "        IoU value.\n",
    "    \"\"\"\n",
    "    # Convert YOLO format to (x1, y1, x2, y2)\n",
    "    x1_1, y1_1 = box1[0] - box1[2] / 2, box1[1] - box1[3] / 2\n",
    "    x2_1, y2_1 = box1[0] + box1[2] / 2, box1[1] + box1[3] / 2\n",
    "    x1_2, y1_2 = box2[0] - box2[2] / 2, box2[1] - box2[3] / 2\n",
    "    x2_2, y2_2 = box2[0] + box2[2] / 2, box2[1] + box2[3] / 2\n",
    "\n",
    "    # Calculate intersection\n",
    "    xi1, yi1 = max(x1_1, x1_2), max(y1_1, y1_2)\n",
    "    xi2, yi2 = min(x2_1, x2_2), min(y2_1, y2_2)\n",
    "    intersection = max(0, xi2 - xi1) * max(0, yi2 - yi1)\n",
    "\n",
    "    # Calculate union\n",
    "    box1_area = (x2_1 - x1_1) * (y2_1 - y1_1)\n",
    "    box2_area = (x2_2 - x1_2) * (y2_2 - y1_2)\n",
    "    union = box1_area + box2_area - intersection\n",
    "\n",
    "    # Return IoU\n",
    "    return intersection / union if union > 0 else 0\n",
    "\n",
    "# Ground Truth와 Predictions 읽기\n",
    "y_true, y_pred = [], []\n",
    "\n",
    "# 추론 시간 측정\n",
    "start_time = time.time()\n",
    "\n",
    "for gt_file in sorted(os.listdir(ground_truth_dir)):\n",
    "    gt_path = os.path.join(ground_truth_dir, gt_file)\n",
    "    pred_path = os.path.join(predictions_dir, gt_file)\n",
    "\n",
    "    if os.path.exists(gt_path) and os.path.exists(pred_path):\n",
    "        # Ground Truth 데이터 읽기\n",
    "        with open(gt_path, \"r\") as gt_f:\n",
    "            gt_data = [list(map(float, line.split())) for line in gt_f.readlines()]  # [class_id, x_center, y_center, width, height]\n",
    "\n",
    "        # 예측 데이터 읽기\n",
    "        with open(pred_path, \"r\") as pred_f:\n",
    "            pred_data = [list(map(float, line.split())) for line in pred_f.readlines()]  # [class_id, x_center, y_center, width, height]\n",
    "\n",
    "        # IoU 기반 매칭\n",
    "        for gt in gt_data:\n",
    "            gt_class = int(gt[0])\n",
    "            gt_box = gt[1:]\n",
    "            matched = False\n",
    "            for pred in pred_data:\n",
    "                pred_class = int(pred[0])\n",
    "                pred_box = pred[1:]\n",
    "                iou = calculate_iou(gt_box, pred_box)\n",
    "                if iou > 0.5 and gt_class == pred_class:  # IoU > 0.5 and same class\n",
    "                    y_true.append(gt_class)\n",
    "                    y_pred.append(pred_class)\n",
    "                    matched = True\n",
    "                    break\n",
    "            if not matched:\n",
    "                y_true.append(gt_class)\n",
    "                y_pred.append(-1)  # No prediction matched\n",
    "    else:\n",
    "        print(f\"Missing file: {gt_file}\")\n",
    "\n",
    "# 추론 시간 측정 종료\n",
    "end_time = time.time()\n",
    "total_inference_time = end_time - start_time\n",
    "avg_inference_time_per_image = total_inference_time / len(os.listdir(ground_truth_dir))\n",
    "\n",
    "# 성능 평가\n",
    "print(\"Confusion Matrix:\")\n",
    "cm = confusion_matrix(y_true, y_pred, labels=list(range(len(class_names))) + [-1])\n",
    "print(cm)\n",
    "\n",
    "print(\"\\nClassification Report:\")\n",
    "report = classification_report(y_true, y_pred, labels=list(range(len(class_names))) + [-1], target_names=class_names + [\"unmatched\"], digits=4)\n",
    "print(report)\n",
    "\n",
    "# 추론 시간 출력\n",
    "print(\"\\nInference Time:\")\n",
    "print(f\"Total inference time: {total_inference_time:.4f} seconds\")\n",
    "print(f\"Average inference time per image: {avg_inference_time_per_image:.4f} seconds\")\n"
   ]
  },
  {
   "cell_type": "code",
   "execution_count": null,
   "id": "b3b5e2ea",
   "metadata": {},
   "outputs": [],
   "source": []
  },
  {
   "cell_type": "code",
   "execution_count": null,
   "id": "5953f35c",
   "metadata": {},
   "outputs": [],
   "source": []
  },
  {
   "cell_type": "code",
   "execution_count": null,
   "id": "c0ceae6c",
   "metadata": {},
   "outputs": [],
   "source": []
  }
 ],
 "metadata": {
  "kernelspec": {
   "display_name": "conda_pytorch_p310",
   "language": "python",
   "name": "conda_pytorch_p310"
  },
  "language_info": {
   "codemirror_mode": {
    "name": "ipython",
    "version": 3
   },
   "file_extension": ".py",
   "mimetype": "text/x-python",
   "name": "python",
   "nbconvert_exporter": "python",
   "pygments_lexer": "ipython3",
   "version": "3.10.14"
  }
 },
 "nbformat": 4,
 "nbformat_minor": 5
}
